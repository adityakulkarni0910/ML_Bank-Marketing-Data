{
 "cells": [
  {
   "cell_type": "markdown",
   "metadata": {},
   "source": [
    "# Result\n",
    "\n",
    "Best model: XGBClassifier \n",
    "\n",
    "Best parameters {'learning_rate': 0.1, 'max_depth': 6, 'min_child_weight': 7, 'n_estimators': 150, 'subsample': 0.9}\n",
    "\n",
    "test roc_auc_score: 0.710\n"
   ]
  },
  {
   "cell_type": "markdown",
   "metadata": {},
   "source": [
    "# Data"
   ]
  },
  {
   "cell_type": "code",
   "execution_count": 2,
   "metadata": {
    "ExecuteTime": {
     "end_time": "2020-05-13T17:52:40.021875Z",
     "start_time": "2020-05-13T17:52:36.469791Z"
    }
   },
   "outputs": [],
   "source": [
    "import numpy as np\n",
    "import matplotlib.pyplot as plt\n",
    "import pandas as pd\n",
    "import seaborn as sns"
   ]
  },
  {
   "cell_type": "code",
   "execution_count": 3,
   "metadata": {
    "ExecuteTime": {
     "end_time": "2020-05-13T17:52:40.252689Z",
     "start_time": "2020-05-13T17:52:40.024819Z"
    }
   },
   "outputs": [
    {
     "data": {
      "text/html": [
       "<div>\n",
       "<style scoped>\n",
       "    .dataframe tbody tr th:only-of-type {\n",
       "        vertical-align: middle;\n",
       "    }\n",
       "\n",
       "    .dataframe tbody tr th {\n",
       "        vertical-align: top;\n",
       "    }\n",
       "\n",
       "    .dataframe thead th {\n",
       "        text-align: right;\n",
       "    }\n",
       "</style>\n",
       "<table border=\"1\" class=\"dataframe\">\n",
       "  <thead>\n",
       "    <tr style=\"text-align: right;\">\n",
       "      <th></th>\n",
       "      <th>age</th>\n",
       "      <th>job</th>\n",
       "      <th>marital</th>\n",
       "      <th>education</th>\n",
       "      <th>default</th>\n",
       "      <th>balance</th>\n",
       "      <th>housing</th>\n",
       "      <th>loan</th>\n",
       "      <th>contact</th>\n",
       "      <th>day</th>\n",
       "      <th>month</th>\n",
       "      <th>duration</th>\n",
       "      <th>campaign</th>\n",
       "      <th>pdays</th>\n",
       "      <th>previous</th>\n",
       "      <th>poutcome</th>\n",
       "      <th>y</th>\n",
       "    </tr>\n",
       "  </thead>\n",
       "  <tbody>\n",
       "    <tr>\n",
       "      <th>0</th>\n",
       "      <td>58</td>\n",
       "      <td>management</td>\n",
       "      <td>married</td>\n",
       "      <td>tertiary</td>\n",
       "      <td>no</td>\n",
       "      <td>2143</td>\n",
       "      <td>yes</td>\n",
       "      <td>no</td>\n",
       "      <td>unknown</td>\n",
       "      <td>5</td>\n",
       "      <td>may</td>\n",
       "      <td>261</td>\n",
       "      <td>1</td>\n",
       "      <td>-1</td>\n",
       "      <td>0</td>\n",
       "      <td>unknown</td>\n",
       "      <td>no</td>\n",
       "    </tr>\n",
       "    <tr>\n",
       "      <th>1</th>\n",
       "      <td>44</td>\n",
       "      <td>technician</td>\n",
       "      <td>single</td>\n",
       "      <td>secondary</td>\n",
       "      <td>no</td>\n",
       "      <td>29</td>\n",
       "      <td>yes</td>\n",
       "      <td>no</td>\n",
       "      <td>unknown</td>\n",
       "      <td>5</td>\n",
       "      <td>may</td>\n",
       "      <td>151</td>\n",
       "      <td>1</td>\n",
       "      <td>-1</td>\n",
       "      <td>0</td>\n",
       "      <td>unknown</td>\n",
       "      <td>no</td>\n",
       "    </tr>\n",
       "    <tr>\n",
       "      <th>2</th>\n",
       "      <td>33</td>\n",
       "      <td>entrepreneur</td>\n",
       "      <td>married</td>\n",
       "      <td>secondary</td>\n",
       "      <td>no</td>\n",
       "      <td>2</td>\n",
       "      <td>yes</td>\n",
       "      <td>yes</td>\n",
       "      <td>unknown</td>\n",
       "      <td>5</td>\n",
       "      <td>may</td>\n",
       "      <td>76</td>\n",
       "      <td>1</td>\n",
       "      <td>-1</td>\n",
       "      <td>0</td>\n",
       "      <td>unknown</td>\n",
       "      <td>no</td>\n",
       "    </tr>\n",
       "    <tr>\n",
       "      <th>3</th>\n",
       "      <td>47</td>\n",
       "      <td>blue-collar</td>\n",
       "      <td>married</td>\n",
       "      <td>unknown</td>\n",
       "      <td>no</td>\n",
       "      <td>1506</td>\n",
       "      <td>yes</td>\n",
       "      <td>no</td>\n",
       "      <td>unknown</td>\n",
       "      <td>5</td>\n",
       "      <td>may</td>\n",
       "      <td>92</td>\n",
       "      <td>1</td>\n",
       "      <td>-1</td>\n",
       "      <td>0</td>\n",
       "      <td>unknown</td>\n",
       "      <td>no</td>\n",
       "    </tr>\n",
       "    <tr>\n",
       "      <th>4</th>\n",
       "      <td>33</td>\n",
       "      <td>unknown</td>\n",
       "      <td>single</td>\n",
       "      <td>unknown</td>\n",
       "      <td>no</td>\n",
       "      <td>1</td>\n",
       "      <td>no</td>\n",
       "      <td>no</td>\n",
       "      <td>unknown</td>\n",
       "      <td>5</td>\n",
       "      <td>may</td>\n",
       "      <td>198</td>\n",
       "      <td>1</td>\n",
       "      <td>-1</td>\n",
       "      <td>0</td>\n",
       "      <td>unknown</td>\n",
       "      <td>no</td>\n",
       "    </tr>\n",
       "  </tbody>\n",
       "</table>\n",
       "</div>"
      ],
      "text/plain": [
       "   age           job  marital  education default  balance housing loan  \\\n",
       "0   58    management  married   tertiary      no     2143     yes   no   \n",
       "1   44    technician   single  secondary      no       29     yes   no   \n",
       "2   33  entrepreneur  married  secondary      no        2     yes  yes   \n",
       "3   47   blue-collar  married    unknown      no     1506     yes   no   \n",
       "4   33       unknown   single    unknown      no        1      no   no   \n",
       "\n",
       "   contact  day month  duration  campaign  pdays  previous poutcome   y  \n",
       "0  unknown    5   may       261         1     -1         0  unknown  no  \n",
       "1  unknown    5   may       151         1     -1         0  unknown  no  \n",
       "2  unknown    5   may        76         1     -1         0  unknown  no  \n",
       "3  unknown    5   may        92         1     -1         0  unknown  no  \n",
       "4  unknown    5   may       198         1     -1         0  unknown  no  "
      ]
     },
     "execution_count": 3,
     "metadata": {},
     "output_type": "execute_result"
    }
   ],
   "source": [
    "df = pd.read_csv('bank-full.csv',delimiter=\";\")\n",
    "\n",
    "df.head()"
   ]
  },
  {
   "cell_type": "code",
   "execution_count": 4,
   "metadata": {
    "ExecuteTime": {
     "end_time": "2020-05-13T17:52:40.309655Z",
     "start_time": "2020-05-13T17:52:40.256685Z"
    }
   },
   "outputs": [
    {
     "name": "stdout",
     "output_type": "stream",
     "text": [
      "<class 'pandas.core.frame.DataFrame'>\n",
      "RangeIndex: 45211 entries, 0 to 45210\n",
      "Data columns (total 17 columns):\n",
      "age          45211 non-null int64\n",
      "job          45211 non-null object\n",
      "marital      45211 non-null object\n",
      "education    45211 non-null object\n",
      "default      45211 non-null object\n",
      "balance      45211 non-null int64\n",
      "housing      45211 non-null object\n",
      "loan         45211 non-null object\n",
      "contact      45211 non-null object\n",
      "day          45211 non-null int64\n",
      "month        45211 non-null object\n",
      "duration     45211 non-null int64\n",
      "campaign     45211 non-null int64\n",
      "pdays        45211 non-null int64\n",
      "previous     45211 non-null int64\n",
      "poutcome     45211 non-null object\n",
      "y            45211 non-null object\n",
      "dtypes: int64(7), object(10)\n",
      "memory usage: 5.9+ MB\n"
     ]
    }
   ],
   "source": [
    "df.info()"
   ]
  },
  {
   "cell_type": "code",
   "execution_count": 5,
   "metadata": {
    "ExecuteTime": {
     "end_time": "2020-05-13T17:52:40.372620Z",
     "start_time": "2020-05-13T17:52:40.312653Z"
    }
   },
   "outputs": [
    {
     "name": "stdout",
     "output_type": "stream",
     "text": [
      "age [58 44 33 47 35 28 42 43 41 29 53 57 51 45 60 56 32 25 40 39] \n",
      "\n",
      "job ['management' 'technician' 'entrepreneur' 'blue-collar' 'unknown'\n",
      " 'retired' 'admin.' 'services' 'self-employed' 'unemployed' 'housemaid'\n",
      " 'student'] \n",
      "\n",
      "marital ['married' 'single' 'divorced'] \n",
      "\n",
      "education ['tertiary' 'secondary' 'unknown' 'primary'] \n",
      "\n",
      "default ['no' 'yes'] \n",
      "\n",
      "balance [2143   29    2 1506    1  231  447  121  593  270  390    6   71  162\n",
      "  229   13   52   60    0  723] \n",
      "\n",
      "housing ['yes' 'no'] \n",
      "\n",
      "loan ['no' 'yes'] \n",
      "\n",
      "contact ['unknown' 'cellular' 'telephone'] \n",
      "\n",
      "day [ 5  6  7  8  9 12 13 14 15 16 19 20 21 23 26 27 28 29 30  2] \n",
      "\n",
      "month ['may' 'jun' 'jul' 'aug' 'oct' 'nov' 'dec' 'jan' 'feb' 'mar' 'apr' 'sep'] \n",
      "\n",
      "duration [261 151  76  92 198 139 217 380  50  55 222 137 517  71 174 353  98  38\n",
      " 219  54] \n",
      "\n",
      "campaign [ 1  2  3  5  4  6  7  8  9 10 11 12 13 19 14 24 16 32 18 22] \n",
      "\n",
      "pdays [ -1 151 166  91  86 143 147  89 140 176 101 174 170 167 195 165 129 188\n",
      " 196 172] \n",
      "\n",
      "previous [ 0  3  1  4  2 11 16  6  5 10 12  7 18  9 21  8 14 15 26 37] \n",
      "\n",
      "poutcome ['unknown' 'failure' 'other' 'success'] \n",
      "\n",
      "y ['no' 'yes'] \n",
      "\n"
     ]
    }
   ],
   "source": [
    "# let's inspect the variable values\n",
    "\n",
    "for var in df.columns:\n",
    "    print(var, df[var].unique()[0:20], '\\n')"
   ]
  },
  {
   "cell_type": "code",
   "execution_count": null,
   "metadata": {
    "ExecuteTime": {
     "end_time": "2020-04-28T16:11:54.150332Z",
     "start_time": "2020-04-28T16:11:54.133345Z"
    }
   },
   "outputs": [],
   "source": []
  },
  {
   "cell_type": "code",
   "execution_count": 6,
   "metadata": {
    "ExecuteTime": {
     "end_time": "2020-05-13T17:52:40.426588Z",
     "start_time": "2020-05-13T17:52:40.375617Z"
    }
   },
   "outputs": [
    {
     "name": "stdout",
     "output_type": "stream",
     "text": [
      "Count of Unknown in education : 1857\n",
      "Count of Unknown in contact : 13020\n",
      "Count of Unknown in poutcome : 36959\n",
      "Count of Unknown in job : 288\n"
     ]
    }
   ],
   "source": [
    "print(f'Count of Unknown in education :',df['education'].loc[df.education == 'unknown'].count())\n",
    "print(f'Count of Unknown in contact :',df['contact'].loc[df.contact == 'unknown'].count())\n",
    "print(f'Count of Unknown in poutcome :',df['poutcome'].loc[df.poutcome == 'unknown'].count())\n",
    "print(f'Count of Unknown in job :',df['job'].loc[df.job == 'unknown'].count())\n"
   ]
  },
  {
   "cell_type": "code",
   "execution_count": 7,
   "metadata": {
    "ExecuteTime": {
     "end_time": "2020-05-13T17:52:40.509543Z",
     "start_time": "2020-05-13T17:52:40.437582Z"
    }
   },
   "outputs": [
    {
     "name": "stdout",
     "output_type": "stream",
     "text": [
      "Missing values : 6.781795684808617 %\n"
     ]
    }
   ],
   "source": [
    "#Calculating missing values %\n",
    "\n",
    "print(f'Missing values :', ((df['education'].loc[df.education == 'unknown'].count()+df['contact'].loc[df.contact == 'unknown'].count()+df['poutcome'].loc[df.poutcome == 'unknown'].count()+df['job'].loc[df.job == 'unknown'].count())/df.count().sum()*100), '%')"
   ]
  },
  {
   "cell_type": "code",
   "execution_count": 8,
   "metadata": {
    "ExecuteTime": {
     "end_time": "2020-05-13T17:52:40.618479Z",
     "start_time": "2020-05-13T17:52:40.512539Z"
    }
   },
   "outputs": [],
   "source": [
    "data = df.replace(to_replace={'education':'unknown','contact':'unknown','poutcome':'unknown'},value=np.nan)"
   ]
  },
  {
   "cell_type": "code",
   "execution_count": 9,
   "metadata": {
    "ExecuteTime": {
     "end_time": "2020-05-13T17:52:40.691435Z",
     "start_time": "2020-05-13T17:52:40.631473Z"
    }
   },
   "outputs": [
    {
     "name": "stdout",
     "output_type": "stream",
     "text": [
      "age [58 44 33 47 35 28 42 43 41 29 53 57 51 45 60 56 32 25 40 39] \n",
      "\n",
      "job ['management' 'technician' 'entrepreneur' 'blue-collar' 'unknown'\n",
      " 'retired' 'admin.' 'services' 'self-employed' 'unemployed' 'housemaid'\n",
      " 'student'] \n",
      "\n",
      "marital ['married' 'single' 'divorced'] \n",
      "\n",
      "education ['tertiary' 'secondary' nan 'primary'] \n",
      "\n",
      "default ['no' 'yes'] \n",
      "\n",
      "balance [2143   29    2 1506    1  231  447  121  593  270  390    6   71  162\n",
      "  229   13   52   60    0  723] \n",
      "\n",
      "housing ['yes' 'no'] \n",
      "\n",
      "loan ['no' 'yes'] \n",
      "\n",
      "contact [nan 'cellular' 'telephone'] \n",
      "\n",
      "day [ 5  6  7  8  9 12 13 14 15 16 19 20 21 23 26 27 28 29 30  2] \n",
      "\n",
      "month ['may' 'jun' 'jul' 'aug' 'oct' 'nov' 'dec' 'jan' 'feb' 'mar' 'apr' 'sep'] \n",
      "\n",
      "duration [261 151  76  92 198 139 217 380  50  55 222 137 517  71 174 353  98  38\n",
      " 219  54] \n",
      "\n",
      "campaign [ 1  2  3  5  4  6  7  8  9 10 11 12 13 19 14 24 16 32 18 22] \n",
      "\n",
      "pdays [ -1 151 166  91  86 143 147  89 140 176 101 174 170 167 195 165 129 188\n",
      " 196 172] \n",
      "\n",
      "previous [ 0  3  1  4  2 11 16  6  5 10 12  7 18  9 21  8 14 15 26 37] \n",
      "\n",
      "poutcome [nan 'failure' 'other' 'success'] \n",
      "\n",
      "y ['no' 'yes'] \n",
      "\n"
     ]
    }
   ],
   "source": [
    "for var in data.columns:\n",
    "    print(var, data[var].unique()[0:20], '\\n')"
   ]
  },
  {
   "cell_type": "code",
   "execution_count": 10,
   "metadata": {
    "ExecuteTime": {
     "end_time": "2020-05-13T17:52:40.732412Z",
     "start_time": "2020-05-13T17:52:40.694434Z"
    }
   },
   "outputs": [
    {
     "name": "stdout",
     "output_type": "stream",
     "text": [
      "<class 'pandas.core.frame.DataFrame'>\n",
      "RangeIndex: 45211 entries, 0 to 45210\n",
      "Data columns (total 17 columns):\n",
      "age          45211 non-null int64\n",
      "job          45211 non-null object\n",
      "marital      45211 non-null object\n",
      "education    43354 non-null object\n",
      "default      45211 non-null object\n",
      "balance      45211 non-null int64\n",
      "housing      45211 non-null object\n",
      "loan         45211 non-null object\n",
      "contact      32191 non-null object\n",
      "day          45211 non-null int64\n",
      "month        45211 non-null object\n",
      "duration     45211 non-null int64\n",
      "campaign     45211 non-null int64\n",
      "pdays        45211 non-null int64\n",
      "previous     45211 non-null int64\n",
      "poutcome     8252 non-null object\n",
      "y            45211 non-null object\n",
      "dtypes: int64(7), object(10)\n",
      "memory usage: 5.9+ MB\n"
     ]
    }
   ],
   "source": [
    "data.info()"
   ]
  },
  {
   "cell_type": "code",
   "execution_count": 11,
   "metadata": {
    "ExecuteTime": {
     "end_time": "2020-05-13T17:52:40.771391Z",
     "start_time": "2020-05-13T17:52:40.735411Z"
    }
   },
   "outputs": [
    {
     "data": {
      "text/plain": [
       "age          0.000000\n",
       "job          0.000000\n",
       "marital      0.000000\n",
       "education    0.041074\n",
       "default      0.000000\n",
       "balance      0.000000\n",
       "housing      0.000000\n",
       "loan         0.000000\n",
       "contact      0.287983\n",
       "day          0.000000\n",
       "month        0.000000\n",
       "duration     0.000000\n",
       "campaign     0.000000\n",
       "pdays        0.000000\n",
       "previous     0.000000\n",
       "poutcome     0.817478\n",
       "y            0.000000\n",
       "dtype: float64"
      ]
     },
     "execution_count": 11,
     "metadata": {},
     "output_type": "execute_result"
    }
   ],
   "source": [
    "data.isnull().mean()"
   ]
  },
  {
   "cell_type": "code",
   "execution_count": 12,
   "metadata": {
    "ExecuteTime": {
     "end_time": "2020-05-13T17:52:40.789380Z",
     "start_time": "2020-05-13T17:52:40.773388Z"
    }
   },
   "outputs": [
    {
     "data": {
      "text/plain": [
       "no     39922\n",
       "yes     5289\n",
       "Name: y, dtype: int64"
      ]
     },
     "execution_count": 12,
     "metadata": {},
     "output_type": "execute_result"
    }
   ],
   "source": [
    "#Imbalanced dataset check\n",
    "\n",
    "data['y'].value_counts()\n"
   ]
  },
  {
   "cell_type": "code",
   "execution_count": 13,
   "metadata": {
    "ExecuteTime": {
     "end_time": "2020-05-13T17:52:40.810384Z",
     "start_time": "2020-05-13T17:52:40.791378Z"
    }
   },
   "outputs": [
    {
     "name": "stdout",
     "output_type": "stream",
     "text": [
      "There are 1 discrete variables\n",
      "There are 6 continuous variables\n",
      "There are 10 categorical variables\n"
     ]
    }
   ],
   "source": [
    "# list of variables types\n",
    "\n",
    "\n",
    "# numerical: discrete vs continuous\n",
    "discrete = [var for var in data.columns if data[var].dtype!='O' and var!='y' and data[var].nunique()<10 or var == 'day']\n",
    "\n",
    "continuous = [var for var in data.columns if data[var].dtype!='O' and var!='y' and var not in discrete]\n",
    "\n",
    "# categorical\n",
    "categorical = [var for var in data.columns if data[var].dtype=='O']\n",
    "\n",
    "print(f'There are {len(discrete)} discrete variables')\n",
    "print(f'There are {len(continuous)} continuous variables')\n",
    "print(f'There are {len(categorical)} categorical variables')"
   ]
  },
  {
   "cell_type": "code",
   "execution_count": 14,
   "metadata": {
    "ExecuteTime": {
     "end_time": "2020-05-13T17:52:40.820361Z",
     "start_time": "2020-05-13T17:52:40.813366Z"
    }
   },
   "outputs": [
    {
     "name": "stdout",
     "output_type": "stream",
     "text": [
      "discrete  : ['day']\n",
      "continuous : ['age', 'balance', 'duration', 'campaign', 'pdays', 'previous']\n",
      "categorical  : ['job', 'marital', 'education', 'default', 'housing', 'loan', 'contact', 'month', 'poutcome', 'y']\n"
     ]
    }
   ],
   "source": [
    "print('discrete  :', discrete )\n",
    "print('continuous :', continuous)\n",
    "print('categorical  :', categorical )"
   ]
  },
  {
   "cell_type": "code",
   "execution_count": 15,
   "metadata": {
    "ExecuteTime": {
     "end_time": "2020-05-13T17:52:40.896319Z",
     "start_time": "2020-05-13T17:52:40.823360Z"
    }
   },
   "outputs": [
    {
     "data": {
      "text/plain": [
       "job          12\n",
       "marital       3\n",
       "education     3\n",
       "default       2\n",
       "housing       2\n",
       "loan          2\n",
       "contact       2\n",
       "month        12\n",
       "poutcome      3\n",
       "y             2\n",
       "dtype: int64"
      ]
     },
     "execution_count": 15,
     "metadata": {},
     "output_type": "execute_result"
    }
   ],
   "source": [
    "#cardinality \n",
    "\n",
    "data[categorical].nunique()"
   ]
  },
  {
   "cell_type": "code",
   "execution_count": 16,
   "metadata": {
    "ExecuteTime": {
     "end_time": "2020-05-13T17:52:40.965279Z",
     "start_time": "2020-05-13T17:52:40.899317Z"
    }
   },
   "outputs": [
    {
     "data": {
      "text/html": [
       "<div>\n",
       "<style scoped>\n",
       "    .dataframe tbody tr th:only-of-type {\n",
       "        vertical-align: middle;\n",
       "    }\n",
       "\n",
       "    .dataframe tbody tr th {\n",
       "        vertical-align: top;\n",
       "    }\n",
       "\n",
       "    .dataframe thead th {\n",
       "        text-align: right;\n",
       "    }\n",
       "</style>\n",
       "<table border=\"1\" class=\"dataframe\">\n",
       "  <thead>\n",
       "    <tr style=\"text-align: right;\">\n",
       "      <th></th>\n",
       "      <th>age</th>\n",
       "      <th>balance</th>\n",
       "      <th>day</th>\n",
       "      <th>duration</th>\n",
       "      <th>campaign</th>\n",
       "      <th>pdays</th>\n",
       "      <th>previous</th>\n",
       "    </tr>\n",
       "  </thead>\n",
       "  <tbody>\n",
       "    <tr>\n",
       "      <th>count</th>\n",
       "      <td>45211.000000</td>\n",
       "      <td>45211.000000</td>\n",
       "      <td>45211.000000</td>\n",
       "      <td>45211.000000</td>\n",
       "      <td>45211.000000</td>\n",
       "      <td>45211.000000</td>\n",
       "      <td>45211.000000</td>\n",
       "    </tr>\n",
       "    <tr>\n",
       "      <th>mean</th>\n",
       "      <td>40.936210</td>\n",
       "      <td>1362.272058</td>\n",
       "      <td>15.806419</td>\n",
       "      <td>258.163080</td>\n",
       "      <td>2.763841</td>\n",
       "      <td>40.197828</td>\n",
       "      <td>0.580323</td>\n",
       "    </tr>\n",
       "    <tr>\n",
       "      <th>std</th>\n",
       "      <td>10.618762</td>\n",
       "      <td>3044.765829</td>\n",
       "      <td>8.322476</td>\n",
       "      <td>257.527812</td>\n",
       "      <td>3.098021</td>\n",
       "      <td>100.128746</td>\n",
       "      <td>2.303441</td>\n",
       "    </tr>\n",
       "    <tr>\n",
       "      <th>min</th>\n",
       "      <td>18.000000</td>\n",
       "      <td>-8019.000000</td>\n",
       "      <td>1.000000</td>\n",
       "      <td>0.000000</td>\n",
       "      <td>1.000000</td>\n",
       "      <td>-1.000000</td>\n",
       "      <td>0.000000</td>\n",
       "    </tr>\n",
       "    <tr>\n",
       "      <th>25%</th>\n",
       "      <td>33.000000</td>\n",
       "      <td>72.000000</td>\n",
       "      <td>8.000000</td>\n",
       "      <td>103.000000</td>\n",
       "      <td>1.000000</td>\n",
       "      <td>-1.000000</td>\n",
       "      <td>0.000000</td>\n",
       "    </tr>\n",
       "    <tr>\n",
       "      <th>50%</th>\n",
       "      <td>39.000000</td>\n",
       "      <td>448.000000</td>\n",
       "      <td>16.000000</td>\n",
       "      <td>180.000000</td>\n",
       "      <td>2.000000</td>\n",
       "      <td>-1.000000</td>\n",
       "      <td>0.000000</td>\n",
       "    </tr>\n",
       "    <tr>\n",
       "      <th>75%</th>\n",
       "      <td>48.000000</td>\n",
       "      <td>1428.000000</td>\n",
       "      <td>21.000000</td>\n",
       "      <td>319.000000</td>\n",
       "      <td>3.000000</td>\n",
       "      <td>-1.000000</td>\n",
       "      <td>0.000000</td>\n",
       "    </tr>\n",
       "    <tr>\n",
       "      <th>max</th>\n",
       "      <td>95.000000</td>\n",
       "      <td>102127.000000</td>\n",
       "      <td>31.000000</td>\n",
       "      <td>4918.000000</td>\n",
       "      <td>63.000000</td>\n",
       "      <td>871.000000</td>\n",
       "      <td>275.000000</td>\n",
       "    </tr>\n",
       "  </tbody>\n",
       "</table>\n",
       "</div>"
      ],
      "text/plain": [
       "                age        balance           day      duration      campaign  \\\n",
       "count  45211.000000   45211.000000  45211.000000  45211.000000  45211.000000   \n",
       "mean      40.936210    1362.272058     15.806419    258.163080      2.763841   \n",
       "std       10.618762    3044.765829      8.322476    257.527812      3.098021   \n",
       "min       18.000000   -8019.000000      1.000000      0.000000      1.000000   \n",
       "25%       33.000000      72.000000      8.000000    103.000000      1.000000   \n",
       "50%       39.000000     448.000000     16.000000    180.000000      2.000000   \n",
       "75%       48.000000    1428.000000     21.000000    319.000000      3.000000   \n",
       "max       95.000000  102127.000000     31.000000   4918.000000     63.000000   \n",
       "\n",
       "              pdays      previous  \n",
       "count  45211.000000  45211.000000  \n",
       "mean      40.197828      0.580323  \n",
       "std      100.128746      2.303441  \n",
       "min       -1.000000      0.000000  \n",
       "25%       -1.000000      0.000000  \n",
       "50%       -1.000000      0.000000  \n",
       "75%       -1.000000      0.000000  \n",
       "max      871.000000    275.000000  "
      ]
     },
     "execution_count": 16,
     "metadata": {},
     "output_type": "execute_result"
    }
   ],
   "source": [
    "data.describe()"
   ]
  },
  {
   "cell_type": "code",
   "execution_count": 17,
   "metadata": {
    "ExecuteTime": {
     "end_time": "2020-05-13T17:52:40.977274Z",
     "start_time": "2020-05-13T17:52:40.968277Z"
    }
   },
   "outputs": [],
   "source": [
    "def diagnostic_plots(df, variable):\n",
    "    # function takes a dataframe (df) and\n",
    "    # the variable of interest as arguments\n",
    "\n",
    "    # define figure size\n",
    "    plt.figure(figsize=(12,3))\n",
    "\n",
    "    # histogram\n",
    "    plt.subplot(1, 2, 1)\n",
    "    sns.distplot(df[variable], bins=30)\n",
    "    plt.title('Histogram')\n",
    "\n",
    "    # boxplot\n",
    "    plt.subplot(1, 2, 2)\n",
    "    sns.boxplot(y=df[variable])\n",
    "    plt.title('Boxplot')\n",
    "\n",
    "    plt.show()"
   ]
  },
  {
   "cell_type": "code",
   "execution_count": 18,
   "metadata": {
    "ExecuteTime": {
     "end_time": "2020-05-13T17:52:43.619754Z",
     "start_time": "2020-05-13T17:52:40.980272Z"
    }
   },
   "outputs": [
    {
     "data": {
      "image/png": "[encoded data removed]",
      "text/plain": [
       "<Figure size 864x216 with 2 Axes>"
      ]
     },
     "metadata": {
      "needs_background": "light"
     },
     "output_type": "display_data"
    },
    {
     "data": {
      "image/png": "[encoded data removed]",
      "text/plain": [
       "<Figure size 864x216 with 2 Axes>"
      ]
     },
     "metadata": {
      "needs_background": "light"
     },
     "output_type": "display_data"
    },
    {
     "data": {
      "image/png": "[encoded data removed]",
      "text/plain": [
       "<Figure size 864x216 with 2 Axes>"
      ]
     },
     "metadata": {
      "needs_background": "light"
     },
     "output_type": "display_data"
    },
    {
     "data": {
      "image/png": "[encoded data removed]",
      "text/plain": [
       "<Figure size 864x216 with 2 Axes>"
      ]
     },
     "metadata": {
      "needs_background": "light"
     },
     "output_type": "display_data"
    },
    {
     "data": {
      "image/png": "[encoded data removed]",
      "text/plain": [
       "<Figure size 864x216 with 2 Axes>"
      ]
     },
     "metadata": {
      "needs_background": "light"
     },
     "output_type": "display_data"
    },
    {
     "data": {
      "image/png": "[encoded data removed]",
      "text/plain": [
       "<Figure size 864x216 with 2 Axes>"
      ]
     },
     "metadata": {
      "needs_background": "light"
     },
     "output_type": "display_data"
    }
   ],
   "source": [
    "# Use the above function for visualizing numerical variables \n",
    "\n",
    "for var in continuous:\n",
    "    diagnostic_plots(data, var)"
   ]
  },
  {
   "cell_type": "code",
   "execution_count": 19,
   "metadata": {
    "ExecuteTime": {
     "end_time": "2020-05-13T17:52:46.082343Z",
     "start_time": "2020-05-13T17:52:43.622754Z"
    }
   },
   "outputs": [
    {
     "data": {
      "image/png": "[encoded data removed]",
      "text/plain": [
       "<Figure size 432x288 with 1 Axes>"
      ]
     },
     "metadata": {
      "needs_background": "light"
     },
     "output_type": "display_data"
    },
    {
     "data": {
      "image/png": "[encoded data removed]",
      "text/plain": [
       "<Figure size 432x288 with 1 Axes>"
      ]
     },
     "metadata": {
      "needs_background": "light"
     },
     "output_type": "display_data"
    },
    {
     "data": {
      "image/png": "[encoded data removed]",
      "text/plain": [
       "<Figure size 432x288 with 1 Axes>"
      ]
     },
     "metadata": {
      "needs_background": "light"
     },
     "output_type": "display_data"
    },
    {
     "data": {
      "image/png": "[encoded data removed]",
      "text/plain": [
       "<Figure size 432x288 with 1 Axes>"
      ]
     },
     "metadata": {
      "needs_background": "light"
     },
     "output_type": "display_data"
    },
    {
     "data": {
      "image/png": "[encoded data removed]",
      "text/plain": [
       "<Figure size 432x288 with 1 Axes>"
      ]
     },
     "metadata": {
      "needs_background": "light"
     },
     "output_type": "display_data"
    },
    {
     "data": {
      "image/png": "[encoded data removed]",
      "text/plain": [
       "<Figure size 432x288 with 1 Axes>"
      ]
     },
     "metadata": {
      "needs_background": "light"
     },
     "output_type": "display_data"
    },
    {
     "data": {
      "image/png": "[encoded data removed]",
      "text/plain": [
       "<Figure size 432x288 with 1 Axes>"
      ]
     },
     "metadata": {
      "needs_background": "light"
     },
     "output_type": "display_data"
    },
    {
     "data": {
      "image/png": "[encoded data removed]",
      "text/plain": [
       "<Figure size 432x288 with 1 Axes>"
      ]
     },
     "metadata": {
      "needs_background": "light"
     },
     "output_type": "display_data"
    },
    {
     "data": {
      "image/png": "[encoded data removed]",
      "text/plain": [
       "<Figure size 432x288 with 1 Axes>"
      ]
     },
     "metadata": {
      "needs_background": "light"
     },
     "output_type": "display_data"
    },
    {
     "data": {
      "image/png": "[encoded data removed]",
      "text/plain": [
       "<Figure size 432x288 with 1 Axes>"
      ]
     },
     "metadata": {
      "needs_background": "light"
     },
     "output_type": "display_data"
    },
    {
     "data": {
      "image/png": "[encoded data removed]",
      "text/plain": [
       "<Figure size 432x288 with 1 Axes>"
      ]
     },
     "metadata": {
      "needs_background": "light"
     },
     "output_type": "display_data"
    }
   ],
   "source": [
    "# outlies in categorical + discrete variables\n",
    "\n",
    "for var in categorical+discrete:\n",
    "    freq_var = 100*(data[var].value_counts() / len(data))\n",
    "    # let's make plot with the category frequencies\n",
    "    fig = freq_var.sort_values(ascending=False).plot.bar()\n",
    "\n",
    "    # add a line to signal 5 % frequency limit\n",
    "    # under which we will consider a category as rare\n",
    "    fig.axhline(y=5, color='red')\n",
    "\n",
    "    # add axis labels and title\n",
    "    fig.set_ylabel('percentage of houses within each category')\n",
    "    fig.set_xlabel(var)\n",
    "    fig.set_title('Identifying Rare Categories')\n",
    "    plt.show()"
   ]
  },
  {
   "cell_type": "markdown",
   "metadata": {},
   "source": [
    "# Pre-Processing"
   ]
  },
  {
   "cell_type": "code",
   "execution_count": 20,
   "metadata": {
    "ExecuteTime": {
     "end_time": "2020-05-13T17:52:46.094336Z",
     "start_time": "2020-05-13T17:52:46.084340Z"
    }
   },
   "outputs": [
    {
     "data": {
      "text/plain": [
       "0         no\n",
       "1         no\n",
       "2         no\n",
       "3         no\n",
       "4         no\n",
       "        ... \n",
       "45206    yes\n",
       "45207    yes\n",
       "45208    yes\n",
       "45209     no\n",
       "45210     no\n",
       "Name: y, Length: 45211, dtype: object"
      ]
     },
     "execution_count": 20,
     "metadata": {},
     "output_type": "execute_result"
    }
   ],
   "source": [
    "data.y"
   ]
  },
  {
   "cell_type": "code",
   "execution_count": 21,
   "metadata": {
    "ExecuteTime": {
     "end_time": "2020-05-13T17:52:46.109330Z",
     "start_time": "2020-05-13T17:52:46.097333Z"
    }
   },
   "outputs": [],
   "source": [
    "#changing y variable (yes/no) to (1/0)\n",
    "\n",
    "data.y = pd.Series(np.where(data.y.values == 'yes', 1, 0), data.index)"
   ]
  },
  {
   "cell_type": "code",
   "execution_count": 22,
   "metadata": {
    "ExecuteTime": {
     "end_time": "2020-05-13T17:52:46.395161Z",
     "start_time": "2020-05-13T17:52:46.112325Z"
    }
   },
   "outputs": [],
   "source": [
    "from sklearn.model_selection import train_test_split\n",
    "\n",
    "X_trainval, X_test, y_trainval, y_test = train_test_split(data.drop('y',axis=1), data.y, test_size=0.2, random_state=0)\n",
    "\n",
    "X_train, X_val, y_train, y_val = train_test_split(X_trainval, y_trainval, test_size=0.25, random_state=0)"
   ]
  },
  {
   "cell_type": "code",
   "execution_count": 23,
   "metadata": {
    "ExecuteTime": {
     "end_time": "2020-05-13T17:52:46.408156Z",
     "start_time": "2020-05-13T17:52:46.399159Z"
    }
   },
   "outputs": [
    {
     "name": "stdout",
     "output_type": "stream",
     "text": [
      "Train size is (27126, 16)\n",
      "Test size is (9043, 16)\n",
      "Val size is (9042, 16)\n"
     ]
    }
   ],
   "source": [
    "print(f'Train size is {X_train.shape}' )\n",
    "print(f'Test size is {X_test.shape}' )\n",
    "print(f'Val size is {X_val.shape}' )"
   ]
  },
  {
   "cell_type": "code",
   "execution_count": 24,
   "metadata": {
    "ExecuteTime": {
     "end_time": "2020-05-13T17:52:46.708982Z",
     "start_time": "2020-05-13T17:52:46.415152Z"
    }
   },
   "outputs": [],
   "source": [
    "# from feature-engine\n",
    "from feature_engine import missing_data_imputers as mdi\n",
    "\n",
    "# for one hot encoding with feature-engine\n",
    "from feature_engine.categorical_encoders import OneHotCategoricalEncoder\n",
    "from feature_engine.categorical_encoders import RareLabelCategoricalEncoder\n",
    "from feature_engine import variable_transformers as vt\n",
    "from feature_engine import discretisers as dsc\n",
    "from feature_engine import categorical_encoders as ce\n",
    "\n",
    "\n",
    "from sklearn.pipeline import Pipeline\n",
    "from sklearn.preprocessing import RobustScaler, StandardScaler, MinMaxScaler, OneHotEncoder\n",
    "\n"
   ]
  },
  {
   "cell_type": "code",
   "execution_count": null,
   "metadata": {
    "ExecuteTime": {
     "end_time": "2020-05-01T21:57:43.391656Z",
     "start_time": "2020-05-01T21:57:43.362657Z"
    }
   },
   "outputs": [],
   "source": []
  },
  {
   "cell_type": "code",
   "execution_count": 25,
   "metadata": {
    "ExecuteTime": {
     "end_time": "2020-05-13T17:52:46.723974Z",
     "start_time": "2020-05-13T17:52:46.711983Z"
    }
   },
   "outputs": [],
   "source": [
    "bank_pipe = Pipeline([\n",
    "    \n",
    "    # missing data imputation \n",
    "    ('imputer_cat_random',\n",
    "    mdi.RandomSampleImputer(variables=['contact','education'])),    \n",
    "  \n",
    "    ('imputer_cat_missing',\n",
    "     mdi.CategoricalVariableImputer(variables=['poutcome'])),\n",
    "    \n",
    "    # categorical encoding \n",
    "\n",
    "    ('encoder_ordinal',\n",
    "    ce.OrdinalCategoricalEncoder(encoding_method='arbitrary',variables=['job', 'marital', 'education', 'default', 'housing', 'loan', 'contact', 'month', 'poutcome'])),\n",
    "\n",
    "    ('transformer_power',\n",
    "     vt.PowerTransformer(variables=['duration'])),\n",
    "\n",
    "    # feature Scaling\n",
    "    \n",
    "   ('scaler', StandardScaler()),\n",
    " \n",
    " \n",
    "])"
   ]
  },
  {
   "cell_type": "code",
   "execution_count": 26,
   "metadata": {
    "ExecuteTime": {
     "end_time": "2020-05-13T17:52:46.943846Z",
     "start_time": "2020-05-13T17:52:46.726972Z"
    }
   },
   "outputs": [
    {
     "data": {
      "text/plain": [
       "Pipeline(memory=None,\n",
       "         steps=[('imputer_cat_random',\n",
       "                 RandomSampleImputer(random_state=None, seed='general',\n",
       "                                     seeding_method='add',\n",
       "                                     variables=['contact', 'education'])),\n",
       "                ('imputer_cat_missing',\n",
       "                 CategoricalVariableImputer(variables=['poutcome'])),\n",
       "                ('encoder_ordinal',\n",
       "                 OrdinalCategoricalEncoder(encoding_method='arbitrary',\n",
       "                                           variables=['job', 'marital',\n",
       "                                                      'education', 'default',\n",
       "                                                      'housing', 'loan',\n",
       "                                                      'contact', 'month',\n",
       "                                                      'poutcome'])),\n",
       "                ('transformer_power',\n",
       "                 PowerTransformer(exp=0.5, variables=['duration'])),\n",
       "                ('scaler',\n",
       "                 StandardScaler(copy=True, with_mean=True, with_std=True))],\n",
       "         verbose=False)"
      ]
     },
     "execution_count": 26,
     "metadata": {},
     "output_type": "execute_result"
    }
   ],
   "source": [
    "bank_pipe.fit(X_train)"
   ]
  },
  {
   "cell_type": "code",
   "execution_count": 27,
   "metadata": {
    "ExecuteTime": {
     "end_time": "2020-05-13T17:52:46.956839Z",
     "start_time": "2020-05-13T17:52:46.946845Z"
    }
   },
   "outputs": [
    {
     "data": {
      "text/plain": [
       "0        0\n",
       "1        0\n",
       "2        0\n",
       "3        0\n",
       "4        0\n",
       "        ..\n",
       "45206    1\n",
       "45207    1\n",
       "45208    1\n",
       "45209    0\n",
       "45210    0\n",
       "Name: y, Length: 45211, dtype: int32"
      ]
     },
     "execution_count": 27,
     "metadata": {},
     "output_type": "execute_result"
    }
   ],
   "source": [
    "data['y']"
   ]
  },
  {
   "cell_type": "code",
   "execution_count": 28,
   "metadata": {
    "ExecuteTime": {
     "end_time": "2020-05-13T17:52:47.262666Z",
     "start_time": "2020-05-13T17:52:46.960837Z"
    }
   },
   "outputs": [],
   "source": [
    "X_train=pd.DataFrame(bank_pipe.transform(X_train),columns=X_train.columns)\n",
    "X_test=pd.DataFrame(bank_pipe.transform(X_test),columns=X_test.columns)\n",
    "X_val=pd.DataFrame(bank_pipe.transform(X_val),columns=X_val.columns)"
   ]
  },
  {
   "cell_type": "code",
   "execution_count": 29,
   "metadata": {
    "ExecuteTime": {
     "end_time": "2020-05-13T17:52:49.640301Z",
     "start_time": "2020-05-13T17:52:47.266663Z"
    }
   },
   "outputs": [
    {
     "data": {
      "image/png": "[encoded data removed]",
      "text/plain": [
       "<Figure size 864x216 with 2 Axes>"
      ]
     },
     "metadata": {
      "needs_background": "light"
     },
     "output_type": "display_data"
    },
    {
     "data": {
      "image/png": "[encoded data removed]",
      "text/plain": [
       "<Figure size 864x216 with 2 Axes>"
      ]
     },
     "metadata": {
      "needs_background": "light"
     },
     "output_type": "display_data"
    },
    {
     "data": {
      "image/png": "[encoded data removed]",
      "text/plain": [
       "<Figure size 864x216 with 2 Axes>"
      ]
     },
     "metadata": {
      "needs_background": "light"
     },
     "output_type": "display_data"
    },
    {
     "data": {
      "image/png": "[encoded data removed]",
      "text/plain": [
       "<Figure size 864x216 with 2 Axes>"
      ]
     },
     "metadata": {
      "needs_background": "light"
     },
     "output_type": "display_data"
    },
    {
     "data": {
      "image/png": "[encoded data removed]",
      "text/plain": [
       "<Figure size 864x216 with 2 Axes>"
      ]
     },
     "metadata": {
      "needs_background": "light"
     },
     "output_type": "display_data"
    },
    {
     "data": {
      "image/png": "[encoded data removed]",
      "text/plain": [
       "<Figure size 864x216 with 2 Axes>"
      ]
     },
     "metadata": {
      "needs_background": "light"
     },
     "output_type": "display_data"
    }
   ],
   "source": [
    "for var in continuous:\n",
    "    diagnostic_plots(X_train, var)"
   ]
  },
  {
   "cell_type": "code",
   "execution_count": 30,
   "metadata": {
    "ExecuteTime": {
     "end_time": "2020-05-13T17:52:49.676298Z",
     "start_time": "2020-05-13T17:52:49.643298Z"
    }
   },
   "outputs": [
    {
     "data": {
      "text/html": [
       "<div>\n",
       "<style scoped>\n",
       "    .dataframe tbody tr th:only-of-type {\n",
       "        vertical-align: middle;\n",
       "    }\n",
       "\n",
       "    .dataframe tbody tr th {\n",
       "        vertical-align: top;\n",
       "    }\n",
       "\n",
       "    .dataframe thead th {\n",
       "        text-align: right;\n",
       "    }\n",
       "</style>\n",
       "<table border=\"1\" class=\"dataframe\">\n",
       "  <thead>\n",
       "    <tr style=\"text-align: right;\">\n",
       "      <th></th>\n",
       "      <th>age</th>\n",
       "      <th>job</th>\n",
       "      <th>marital</th>\n",
       "      <th>education</th>\n",
       "      <th>default</th>\n",
       "      <th>balance</th>\n",
       "      <th>housing</th>\n",
       "      <th>loan</th>\n",
       "      <th>contact</th>\n",
       "      <th>day</th>\n",
       "      <th>month</th>\n",
       "      <th>duration</th>\n",
       "      <th>campaign</th>\n",
       "      <th>pdays</th>\n",
       "      <th>previous</th>\n",
       "      <th>poutcome</th>\n",
       "    </tr>\n",
       "  </thead>\n",
       "  <tbody>\n",
       "    <tr>\n",
       "      <th>0</th>\n",
       "      <td>1.710246</td>\n",
       "      <td>-1.139979</td>\n",
       "      <td>-0.744424</td>\n",
       "      <td>-0.840652</td>\n",
       "      <td>-0.138701</td>\n",
       "      <td>0.365658</td>\n",
       "      <td>-1.114785</td>\n",
       "      <td>-2.282890</td>\n",
       "      <td>-0.317988</td>\n",
       "      <td>0.385991</td>\n",
       "      <td>-1.203060</td>\n",
       "      <td>0.012289</td>\n",
       "      <td>-0.568798</td>\n",
       "      <td>-0.410958</td>\n",
       "      <td>-0.228217</td>\n",
       "      <td>-0.446905</td>\n",
       "    </tr>\n",
       "    <tr>\n",
       "      <th>1</th>\n",
       "      <td>0.956131</td>\n",
       "      <td>-0.788529</td>\n",
       "      <td>0.701670</td>\n",
       "      <td>-0.840652</td>\n",
       "      <td>-0.138701</td>\n",
       "      <td>-0.204237</td>\n",
       "      <td>0.897034</td>\n",
       "      <td>0.438041</td>\n",
       "      <td>-0.317988</td>\n",
       "      <td>-0.576051</td>\n",
       "      <td>-0.787687</td>\n",
       "      <td>0.845037</td>\n",
       "      <td>-0.568798</td>\n",
       "      <td>-0.261471</td>\n",
       "      <td>2.909651</td>\n",
       "      <td>0.753010</td>\n",
       "    </tr>\n",
       "    <tr>\n",
       "      <th>2</th>\n",
       "      <td>-0.646364</td>\n",
       "      <td>-0.437078</td>\n",
       "      <td>0.701670</td>\n",
       "      <td>0.508190</td>\n",
       "      <td>-0.138701</td>\n",
       "      <td>-0.113788</td>\n",
       "      <td>0.897034</td>\n",
       "      <td>-2.282890</td>\n",
       "      <td>-0.317988</td>\n",
       "      <td>-0.095030</td>\n",
       "      <td>-0.787687</td>\n",
       "      <td>-0.629077</td>\n",
       "      <td>0.073310</td>\n",
       "      <td>-0.410958</td>\n",
       "      <td>-0.228217</td>\n",
       "      <td>-0.446905</td>\n",
       "    </tr>\n",
       "    <tr>\n",
       "      <th>3</th>\n",
       "      <td>0.673337</td>\n",
       "      <td>-0.085628</td>\n",
       "      <td>-0.744424</td>\n",
       "      <td>-0.840652</td>\n",
       "      <td>-0.138701</td>\n",
       "      <td>-0.433839</td>\n",
       "      <td>0.897034</td>\n",
       "      <td>0.438041</td>\n",
       "      <td>-0.317988</td>\n",
       "      <td>1.227777</td>\n",
       "      <td>-0.787687</td>\n",
       "      <td>-0.658210</td>\n",
       "      <td>-0.568798</td>\n",
       "      <td>-0.410958</td>\n",
       "      <td>-0.228217</td>\n",
       "      <td>-0.446905</td>\n",
       "    </tr>\n",
       "    <tr>\n",
       "      <th>4</th>\n",
       "      <td>-0.080778</td>\n",
       "      <td>-1.139979</td>\n",
       "      <td>-0.744424</td>\n",
       "      <td>-0.840652</td>\n",
       "      <td>-0.138701</td>\n",
       "      <td>-0.032193</td>\n",
       "      <td>-1.114785</td>\n",
       "      <td>0.438041</td>\n",
       "      <td>-0.317988</td>\n",
       "      <td>0.145480</td>\n",
       "      <td>-0.372314</td>\n",
       "      <td>0.584294</td>\n",
       "      <td>-0.247744</td>\n",
       "      <td>-0.410958</td>\n",
       "      <td>-0.228217</td>\n",
       "      <td>-0.446905</td>\n",
       "    </tr>\n",
       "    <tr>\n",
       "      <th>...</th>\n",
       "      <td>...</td>\n",
       "      <td>...</td>\n",
       "      <td>...</td>\n",
       "      <td>...</td>\n",
       "      <td>...</td>\n",
       "      <td>...</td>\n",
       "      <td>...</td>\n",
       "      <td>...</td>\n",
       "      <td>...</td>\n",
       "      <td>...</td>\n",
       "      <td>...</td>\n",
       "      <td>...</td>\n",
       "      <td>...</td>\n",
       "      <td>...</td>\n",
       "      <td>...</td>\n",
       "      <td>...</td>\n",
       "    </tr>\n",
       "    <tr>\n",
       "      <th>27121</th>\n",
       "      <td>-0.175042</td>\n",
       "      <td>-0.788529</td>\n",
       "      <td>-0.744424</td>\n",
       "      <td>-0.840652</td>\n",
       "      <td>-0.138701</td>\n",
       "      <td>-0.317773</td>\n",
       "      <td>0.897034</td>\n",
       "      <td>0.438041</td>\n",
       "      <td>-0.317988</td>\n",
       "      <td>-1.057072</td>\n",
       "      <td>-0.787687</td>\n",
       "      <td>-0.650876</td>\n",
       "      <td>-0.568798</td>\n",
       "      <td>-0.410958</td>\n",
       "      <td>-0.228217</td>\n",
       "      <td>-0.446905</td>\n",
       "    </tr>\n",
       "    <tr>\n",
       "      <th>27122</th>\n",
       "      <td>-0.457835</td>\n",
       "      <td>-0.788529</td>\n",
       "      <td>0.701670</td>\n",
       "      <td>-0.840652</td>\n",
       "      <td>-0.138701</td>\n",
       "      <td>0.013348</td>\n",
       "      <td>0.897034</td>\n",
       "      <td>0.438041</td>\n",
       "      <td>-0.317988</td>\n",
       "      <td>0.025225</td>\n",
       "      <td>-0.372314</td>\n",
       "      <td>0.151445</td>\n",
       "      <td>-0.568798</td>\n",
       "      <td>-0.410958</td>\n",
       "      <td>-0.228217</td>\n",
       "      <td>-0.446905</td>\n",
       "    </tr>\n",
       "    <tr>\n",
       "      <th>27123</th>\n",
       "      <td>0.956131</td>\n",
       "      <td>-1.139979</td>\n",
       "      <td>-0.744424</td>\n",
       "      <td>-0.840652</td>\n",
       "      <td>-0.138701</td>\n",
       "      <td>-0.421505</td>\n",
       "      <td>-1.114785</td>\n",
       "      <td>0.438041</td>\n",
       "      <td>-0.317988</td>\n",
       "      <td>-1.658348</td>\n",
       "      <td>0.873805</td>\n",
       "      <td>-0.220351</td>\n",
       "      <td>-0.568798</td>\n",
       "      <td>-0.410958</td>\n",
       "      <td>-0.228217</td>\n",
       "      <td>-0.446905</td>\n",
       "    </tr>\n",
       "    <tr>\n",
       "      <th>27124</th>\n",
       "      <td>-0.929157</td>\n",
       "      <td>-0.788529</td>\n",
       "      <td>-0.744424</td>\n",
       "      <td>-0.840652</td>\n",
       "      <td>-0.138701</td>\n",
       "      <td>1.980464</td>\n",
       "      <td>0.897034</td>\n",
       "      <td>-2.282890</td>\n",
       "      <td>-0.317988</td>\n",
       "      <td>-1.538093</td>\n",
       "      <td>-1.203060</td>\n",
       "      <td>0.012289</td>\n",
       "      <td>-0.568798</td>\n",
       "      <td>-0.410958</td>\n",
       "      <td>-0.228217</td>\n",
       "      <td>-0.446905</td>\n",
       "    </tr>\n",
       "    <tr>\n",
       "      <th>27125</th>\n",
       "      <td>1.050395</td>\n",
       "      <td>-1.139979</td>\n",
       "      <td>-0.744424</td>\n",
       "      <td>-0.840652</td>\n",
       "      <td>-0.138701</td>\n",
       "      <td>-0.372169</td>\n",
       "      <td>0.897034</td>\n",
       "      <td>0.438041</td>\n",
       "      <td>-0.317988</td>\n",
       "      <td>0.145480</td>\n",
       "      <td>3.366044</td>\n",
       "      <td>-0.621877</td>\n",
       "      <td>-0.247744</td>\n",
       "      <td>1.641991</td>\n",
       "      <td>0.948483</td>\n",
       "      <td>1.952925</td>\n",
       "    </tr>\n",
       "  </tbody>\n",
       "</table>\n",
       "<p>27126 rows × 16 columns</p>\n",
       "</div>"
      ],
      "text/plain": [
       "            age       job   marital  education   default   balance   housing  \\\n",
       "0      1.710246 -1.139979 -0.744424  -0.840652 -0.138701  0.365658 -1.114785   \n",
       "1      0.956131 -0.788529  0.701670  -0.840652 -0.138701 -0.204237  0.897034   \n",
       "2     -0.646364 -0.437078  0.701670   0.508190 -0.138701 -0.113788  0.897034   \n",
       "3      0.673337 -0.085628 -0.744424  -0.840652 -0.138701 -0.433839  0.897034   \n",
       "4     -0.080778 -1.139979 -0.744424  -0.840652 -0.138701 -0.032193 -1.114785   \n",
       "...         ...       ...       ...        ...       ...       ...       ...   \n",
       "27121 -0.175042 -0.788529 -0.744424  -0.840652 -0.138701 -0.317773  0.897034   \n",
       "27122 -0.457835 -0.788529  0.701670  -0.840652 -0.138701  0.013348  0.897034   \n",
       "27123  0.956131 -1.139979 -0.744424  -0.840652 -0.138701 -0.421505 -1.114785   \n",
       "27124 -0.929157 -0.788529 -0.744424  -0.840652 -0.138701  1.980464  0.897034   \n",
       "27125  1.050395 -1.139979 -0.744424  -0.840652 -0.138701 -0.372169  0.897034   \n",
       "\n",
       "           loan   contact       day     month  duration  campaign     pdays  \\\n",
       "0     -2.282890 -0.317988  0.385991 -1.203060  0.012289 -0.568798 -0.410958   \n",
       "1      0.438041 -0.317988 -0.576051 -0.787687  0.845037 -0.568798 -0.261471   \n",
       "2     -2.282890 -0.317988 -0.095030 -0.787687 -0.629077  0.073310 -0.410958   \n",
       "3      0.438041 -0.317988  1.227777 -0.787687 -0.658210 -0.568798 -0.410958   \n",
       "4      0.438041 -0.317988  0.145480 -0.372314  0.584294 -0.247744 -0.410958   \n",
       "...         ...       ...       ...       ...       ...       ...       ...   \n",
       "27121  0.438041 -0.317988 -1.057072 -0.787687 -0.650876 -0.568798 -0.410958   \n",
       "27122  0.438041 -0.317988  0.025225 -0.372314  0.151445 -0.568798 -0.410958   \n",
       "27123  0.438041 -0.317988 -1.658348  0.873805 -0.220351 -0.568798 -0.410958   \n",
       "27124 -2.282890 -0.317988 -1.538093 -1.203060  0.012289 -0.568798 -0.410958   \n",
       "27125  0.438041 -0.317988  0.145480  3.366044 -0.621877 -0.247744  1.641991   \n",
       "\n",
       "       previous  poutcome  \n",
       "0     -0.228217 -0.446905  \n",
       "1      2.909651  0.753010  \n",
       "2     -0.228217 -0.446905  \n",
       "3     -0.228217 -0.446905  \n",
       "4     -0.228217 -0.446905  \n",
       "...         ...       ...  \n",
       "27121 -0.228217 -0.446905  \n",
       "27122 -0.228217 -0.446905  \n",
       "27123 -0.228217 -0.446905  \n",
       "27124 -0.228217 -0.446905  \n",
       "27125  0.948483  1.952925  \n",
       "\n",
       "[27126 rows x 16 columns]"
      ]
     },
     "execution_count": 30,
     "metadata": {},
     "output_type": "execute_result"
    }
   ],
   "source": [
    "X_train"
   ]
  },
  {
   "cell_type": "markdown",
   "metadata": {},
   "source": [
    "# Basic Algorithms"
   ]
  },
  {
   "cell_type": "markdown",
   "metadata": {},
   "source": [
    "## Naive Algorithm "
   ]
  },
  {
   "cell_type": "code",
   "execution_count": 31,
   "metadata": {
    "ExecuteTime": {
     "end_time": "2020-05-13T17:52:49.691271Z",
     "start_time": "2020-05-13T17:52:49.679276Z"
    }
   },
   "outputs": [],
   "source": [
    "from sklearn.dummy import DummyClassifier\n",
    "from sklearn.model_selection import cross_val_score\n",
    "from sklearn.metrics import f1_score"
   ]
  },
  {
   "cell_type": "code",
   "execution_count": 32,
   "metadata": {
    "ExecuteTime": {
     "end_time": "2020-05-13T17:52:49.698265Z",
     "start_time": "2020-05-13T17:52:49.693268Z"
    }
   },
   "outputs": [],
   "source": [
    "# Metric selected: 'roc_auc score'\n",
    "\n",
    "# In this Bank dataset, the aim is to predict if the client will subscribe (yes/no) a term deposit (variable y)\n",
    "# As the both classes are important here in order to understand factors affecting the client's decision, the 'roc_auc score' has been selected as a metric\n",
    "# The y variable has also been converted to (1/0)"
   ]
  },
  {
   "cell_type": "code",
   "execution_count": 33,
   "metadata": {
    "ExecuteTime": {
     "end_time": "2020-05-13T17:53:05.235877Z",
     "start_time": "2020-05-13T17:53:05.160923Z"
    }
   },
   "outputs": [
    {
     "name": "stdout",
     "output_type": "stream",
     "text": [
      "Mean Cross-validation scores: 0.5024565308839191\n",
      "\n",
      "Naive Algorithm Val Performance:  0.7924131829241319\n",
      "Naive Algorithm Test Performance:  0.7970806148402079\n"
     ]
    }
   ],
   "source": [
    "model_dummy = DummyClassifier(strategy='stratified',random_state=123)\n",
    "model_dummy.fit(X_train,y_train)\n",
    "cv_scores = cross_val_score(model_dummy, X_train, y_train,scoring='roc_auc')\n",
    "\n",
    "# Mean Cross validation Score\n",
    "print(\"Mean Cross-validation scores: {}\".format(cv_scores.mean()))\n",
    "print()\n",
    "\n",
    "# Check val/test data set performance\n",
    "print(\"Naive Algorithm Val Performance: \", model_dummy.score(X_val,y_val))\n",
    "print(\"Naive Algorithm Test Performance: \", model_dummy.score(X_test,y_test))"
   ]
  },
  {
   "cell_type": "markdown",
   "metadata": {},
   "source": [
    "## KNN"
   ]
  },
  {
   "cell_type": "code",
   "execution_count": 113,
   "metadata": {
    "ExecuteTime": {
     "end_time": "2020-05-03T23:08:55.989730Z",
     "start_time": "2020-05-03T23:08:55.983734Z"
    }
   },
   "outputs": [],
   "source": [
    "from sklearn.neighbors import KNeighborsClassifier \n",
    "from sklearn.model_selection import GridSearchCV"
   ]
  },
  {
   "cell_type": "code",
   "execution_count": 114,
   "metadata": {
    "ExecuteTime": {
     "end_time": "2020-05-03T23:08:56.004722Z",
     "start_time": "2020-05-03T23:08:55.996727Z"
    }
   },
   "outputs": [],
   "source": [
    "knn= KNeighborsClassifier()\n",
    "\n",
    "knn_param= {'n_neighbors' : range(5,10), 'weights': ['uniform']}\n",
    "knn_grid = GridSearchCV(knn, knn_param,cv=5, return_train_score=True, scoring='roc_auc')\n"
   ]
  },
  {
   "cell_type": "code",
   "execution_count": 127,
   "metadata": {
    "ExecuteTime": {
     "end_time": "2020-05-03T23:21:34.400891Z",
     "start_time": "2020-05-03T23:14:26.013161Z"
    }
   },
   "outputs": [
    {
     "data": {
      "text/plain": [
       "GridSearchCV(cv=5, error_score=nan,\n",
       "             estimator=KNeighborsClassifier(algorithm='auto', leaf_size=30,\n",
       "                                            metric='minkowski',\n",
       "                                            metric_params=None, n_jobs=None,\n",
       "                                            n_neighbors=5, p=2,\n",
       "                                            weights='uniform'),\n",
       "             iid='deprecated', n_jobs=None,\n",
       "             param_grid={'n_neighbors': range(5, 10), 'weights': ['uniform']},\n",
       "             pre_dispatch='2*n_jobs', refit=True, return_train_score=True,\n",
       "             scoring='roc_auc', verbose=0)"
      ]
     },
     "execution_count": 127,
     "metadata": {},
     "output_type": "execute_result"
    }
   ],
   "source": [
    "knn_grid.fit(X_train,y_train)"
   ]
  },
  {
   "cell_type": "code",
   "execution_count": 116,
   "metadata": {
    "ExecuteTime": {
     "end_time": "2020-05-03T23:10:01.638107Z",
     "start_time": "2020-05-03T23:10:01.619123Z"
    }
   },
   "outputs": [
    {
     "ename": "AttributeError",
     "evalue": "'GridSearchCV' object has no attribute 'best_score_'",
     "output_type": "error",
     "traceback": [
      "\u001b[1;31m---------------------------------------------------------------------------\u001b[0m",
      "\u001b[1;31mAttributeError\u001b[0m                            Traceback (most recent call last)",
      "\u001b[1;32m<ipython-input-116-d6427db77f1c>\u001b[0m in \u001b[0;36m<module>\u001b[1;34m\u001b[0m\n\u001b[1;32m----> 1\u001b[1;33m \u001b[0mprint\u001b[0m\u001b[1;33m(\u001b[0m\u001b[1;34mf'Best Mean Cross Validation Score is {knn_grid.best_score_}'\u001b[0m\u001b[1;33m)\u001b[0m\u001b[1;33m\u001b[0m\u001b[1;33m\u001b[0m\u001b[0m\n\u001b[0m\u001b[0;32m      2\u001b[0m \u001b[0mprint\u001b[0m\u001b[1;33m(\u001b[0m\u001b[1;34mf'Best parameters {knn_grid.best_params_}'\u001b[0m\u001b[1;33m)\u001b[0m\u001b[1;33m\u001b[0m\u001b[1;33m\u001b[0m\u001b[0m\n\u001b[0;32m      3\u001b[0m \u001b[0mprint\u001b[0m\u001b[1;33m(\u001b[0m\u001b[1;34mf'Train score is {knn_grid.score(X_train,y_train)}'\u001b[0m\u001b[1;33m)\u001b[0m\u001b[1;33m\u001b[0m\u001b[1;33m\u001b[0m\u001b[0m\n\u001b[0;32m      4\u001b[0m \u001b[0mprint\u001b[0m\u001b[1;33m(\u001b[0m\u001b[1;34mf'Test score is {knn_grid.score(X_test,y_test)}'\u001b[0m\u001b[1;33m)\u001b[0m\u001b[1;33m\u001b[0m\u001b[1;33m\u001b[0m\u001b[0m\n\u001b[0;32m      5\u001b[0m \u001b[0mprint\u001b[0m\u001b[1;33m(\u001b[0m\u001b[1;34mf'Validation score is {knn_grid.score(X_val,y_val)}'\u001b[0m\u001b[1;33m)\u001b[0m\u001b[1;33m\u001b[0m\u001b[1;33m\u001b[0m\u001b[0m\n",
      "\u001b[1;31mAttributeError\u001b[0m: 'GridSearchCV' object has no attribute 'best_score_'"
     ]
    }
   ],
   "source": [
    "print(f'Best Mean Cross Validation Score is {knn_grid.best_score_}')\n",
    "print(f'Best parameters {knn_grid.best_params_}')\n",
    "print(f'Train score is {knn_grid.score(X_train,y_train)}')\n",
    "print(f'Test score is {knn_grid.score(X_test,y_test)}')\n",
    "print(f'Validation score is {knn_grid.score(X_val,y_val)}')"
   ]
  },
  {
   "cell_type": "markdown",
   "metadata": {},
   "source": [
    "## Logistic"
   ]
  },
  {
   "cell_type": "code",
   "execution_count": null,
   "metadata": {
    "ExecuteTime": {
     "end_time": "2020-05-03T23:09:47.071161Z",
     "start_time": "2020-05-03T23:08:44.945Z"
    }
   },
   "outputs": [],
   "source": [
    "from sklearn.linear_model import LogisticRegression"
   ]
  },
  {
   "cell_type": "code",
   "execution_count": null,
   "metadata": {
    "ExecuteTime": {
     "end_time": "2020-05-03T23:09:47.074160Z",
     "start_time": "2020-05-03T23:08:44.956Z"
    }
   },
   "outputs": [],
   "source": [
    "logreg=LogisticRegression(max_iter=1000)\n",
    "\n",
    "logreg_param= {'C': [0.005,0.007,0.01,0.03,0.05]}\n",
    "logreg_grid = GridSearchCV(logreg, logreg_param,cv=5, return_train_score=True,scoring='roc_auc' )\n",
    "logreg_grid.fit(X_train,y_train)"
   ]
  },
  {
   "cell_type": "code",
   "execution_count": 117,
   "metadata": {
    "ExecuteTime": {
     "end_time": "2020-05-03T23:10:30.628732Z",
     "start_time": "2020-05-03T23:10:30.576756Z"
    }
   },
   "outputs": [
    {
     "name": "stdout",
     "output_type": "stream",
     "text": [
      "Best Mean Cross Validation Score is 0.8740453731629392\n",
      "Best parameters are: {'C': 0.007}\n",
      "Train score is 0.8747008024098955\n",
      "Test score is 0.8659294048856856\n",
      "Val score is 0.8784291797348962\n"
     ]
    }
   ],
   "source": [
    "print(f'Best Mean Cross Validation Score is {logreg_grid.best_score_}')\n",
    "print(f'Best parameters are: {logreg_grid.best_params_}')\n",
    "print(f'Train score is {logreg_grid.score(X_train,y_train)}')\n",
    "print(f'Test score is {logreg_grid.score(X_test,y_test)}')\n",
    "print(f'Val score is {logreg_grid.score(X_val,y_val)}')"
   ]
  },
  {
   "cell_type": "markdown",
   "metadata": {},
   "source": [
    "## Linear SVC"
   ]
  },
  {
   "cell_type": "code",
   "execution_count": null,
   "metadata": {
    "ExecuteTime": {
     "end_time": "2020-05-03T23:09:47.079157Z",
     "start_time": "2020-05-03T23:08:44.974Z"
    }
   },
   "outputs": [],
   "source": [
    "from sklearn.svm import LinearSVC"
   ]
  },
  {
   "cell_type": "code",
   "execution_count": null,
   "metadata": {
    "ExecuteTime": {
     "end_time": "2020-05-03T23:09:47.082156Z",
     "start_time": "2020-05-03T23:08:44.982Z"
    }
   },
   "outputs": [],
   "source": [
    "'''\n",
    "lsvc = LinearSVC(max_iter=1000000)\n",
    "lsvc_param = {'C': [5,10,20,50,100],\n",
    "              }\n",
    "lsvc_grid = GridSearchCV(lsvc, lsvc_param,cv=5, return_train_score=True, scoring='roc_auc')\n",
    "lsvc_grid.fit(X_train,y_train)\n",
    "'''"
   ]
  },
  {
   "cell_type": "code",
   "execution_count": null,
   "metadata": {
    "ExecuteTime": {
     "end_time": "2020-05-03T23:09:47.085154Z",
     "start_time": "2020-05-03T23:08:44.988Z"
    }
   },
   "outputs": [],
   "source": [
    "'''\n",
    "print(f'Best Mean Cross Validation Score is {lsvc_grid.best_score_}')\n",
    "print(f'Best Mean Cross Validation Score is {lsvc_grid.best_params_}')\n",
    "print(f'Train score is {lsvc_grid.score(X_train,y_train)}')\n",
    "print(f'Test score is {lsvc_grid.score(X_test,y_test)}')\n",
    "print(f'Val score is {lsvc_grid.score(X_val,y_val)}')\n",
    "'''"
   ]
  },
  {
   "cell_type": "markdown",
   "metadata": {},
   "source": [
    "## Kernel SVC"
   ]
  },
  {
   "cell_type": "code",
   "execution_count": null,
   "metadata": {
    "ExecuteTime": {
     "end_time": "2020-05-03T23:09:47.087152Z",
     "start_time": "2020-05-03T23:08:44.994Z"
    }
   },
   "outputs": [],
   "source": [
    "from sklearn.svm import SVC"
   ]
  },
  {
   "cell_type": "code",
   "execution_count": null,
   "metadata": {
    "ExecuteTime": {
     "start_time": "2020-05-04T01:55:40.232Z"
    }
   },
   "outputs": [],
   "source": [
    "#unable to run Kernel SVC \n",
    "\n",
    "ksvc=SVC(probability=True)\n",
    "ksvc_param = [\n",
    "              {'kernel': ['rbf'],\n",
    "               'C': [ 0.01, 0.1, 1, 10],\n",
    "               'gamma': [ 0.01, 0.1, 1, 10]},\n",
    "             \n",
    "              {'kernel': ['poly'],\n",
    "               'C': [ 0.01, 0.1, 1, 10, ],\n",
    "              'gamma': [ 0.01, 0.1, 1, 10],\n",
    "              'degree' : range(1,3)},\n",
    "             \n",
    "             {'kernel': ['sigmoid'],\n",
    "               'C': [ 0.01, 0.1, 1, 10],\n",
    "               'gamma': [ 0.01, 0.1, 1, 10]}]\n",
    "\n",
    "ksvc_grid = GridSearchCV(ksvc, ksvc_param,cv=3, return_train_score=True, scoring='roc_auc')\n",
    "ksvc_grid.fit(X_train,y_train)\n"
   ]
  },
  {
   "cell_type": "code",
   "execution_count": null,
   "metadata": {
    "ExecuteTime": {
     "end_time": "2020-05-03T23:09:47.091150Z",
     "start_time": "2020-05-03T23:08:45.007Z"
    }
   },
   "outputs": [],
   "source": [
    "'''\n",
    "print(f'Best Mean Cross Validation Score is {ksvc_grid.best_score_}')\n",
    "print(f'Best Mean Cross Validation Score is {ksvc_grid.best_params_}')\n",
    "print(f'Train score is {ksvc_grid.score(X_train,y_train)}')\n",
    "print(f'Test score is {ksvc_grid.score(X_test,y_test)}')\n",
    "print(f'Val score is {ksvc_grid.score(X_val,y_val)}')\n",
    "'''"
   ]
  },
  {
   "cell_type": "markdown",
   "metadata": {},
   "source": [
    "## Decision tree"
   ]
  },
  {
   "cell_type": "code",
   "execution_count": null,
   "metadata": {
    "ExecuteTime": {
     "end_time": "2020-05-03T23:09:47.094151Z",
     "start_time": "2020-05-03T23:08:45.013Z"
    }
   },
   "outputs": [],
   "source": [
    "from sklearn.tree import DecisionTreeClassifier"
   ]
  },
  {
   "cell_type": "code",
   "execution_count": null,
   "metadata": {
    "ExecuteTime": {
     "end_time": "2020-05-03T23:09:47.096147Z",
     "start_time": "2020-05-03T23:08:45.021Z"
    }
   },
   "outputs": [],
   "source": [
    "dtree = DecisionTreeClassifier()\n",
    "dtree_param = {\"max_depth\": range(1,10),\n",
    "           \"min_samples_split\": range(2,10,1),\n",
    "           \"max_leaf_nodes\": range(2,6),\n",
    "              \"splitter\": [\"best\", \"random\"]}\n",
    "dtree_grid = GridSearchCV(dtree, dtree_param,cv=5, return_train_score=True, scoring='roc_auc')\n",
    "dtree_grid.fit(X_train,y_train)"
   ]
  },
  {
   "cell_type": "code",
   "execution_count": 118,
   "metadata": {
    "ExecuteTime": {
     "end_time": "2020-05-03T23:10:37.130009Z",
     "start_time": "2020-05-03T23:10:37.085034Z"
    }
   },
   "outputs": [
    {
     "name": "stdout",
     "output_type": "stream",
     "text": [
      "Best Mean Cross Validation Score is 0.7946708028753993\n",
      "Best Mean Cross Validation Score is {'max_depth': 4, 'max_leaf_nodes': 5, 'min_samples_split': 2, 'splitter': 'best'}\n",
      "Train score is 0.7967835159415655\n",
      "Test score is 0.8006260359270708\n",
      "Val score is 0.7924497493189258\n"
     ]
    }
   ],
   "source": [
    "print(f'Best Mean Cross Validation Score is {dtree_grid.best_score_}')\n",
    "print(f'Best Mean Cross Validation Score is {dtree_grid.best_params_}')\n",
    "print(f'Train score is {dtree_grid.score(X_train,y_train)}')\n",
    "print(f'Test score is {dtree_grid.score(X_test,y_test)}')\n",
    "print(f'Val score is {dtree_grid.score(X_val,y_val)}')"
   ]
  },
  {
   "cell_type": "markdown",
   "metadata": {},
   "source": [
    "## Random Forest"
   ]
  },
  {
   "cell_type": "code",
   "execution_count": null,
   "metadata": {
    "ExecuteTime": {
     "end_time": "2020-05-03T23:09:47.100145Z",
     "start_time": "2020-05-03T23:08:45.038Z"
    }
   },
   "outputs": [],
   "source": [
    "from sklearn.ensemble import RandomForestClassifier"
   ]
  },
  {
   "cell_type": "code",
   "execution_count": null,
   "metadata": {
    "ExecuteTime": {
     "end_time": "2020-05-03T23:09:47.103143Z",
     "start_time": "2020-05-03T23:08:45.045Z"
    }
   },
   "outputs": [],
   "source": [
    "rfc =RandomForestClassifier(random_state=42)\n",
    "rfc_param = { \n",
    "    'n_estimators': [200, 500],\n",
    "    'max_features': ['auto', 'sqrt', 'log2'],\n",
    "    'max_depth' : [2,4,5,6,7,8],\n",
    "    'criterion' :['gini', 'entropy']\n",
    "}\n",
    "\n",
    "rfc_grid = GridSearchCV(rfc, rfc_param,cv=5, return_train_score=True, scoring='roc_auc')\n",
    "rfc_grid.fit(X_train,y_train)"
   ]
  },
  {
   "cell_type": "code",
   "execution_count": 119,
   "metadata": {
    "ExecuteTime": {
     "end_time": "2020-05-03T23:10:47.300155Z",
     "start_time": "2020-05-03T23:10:43.746871Z"
    }
   },
   "outputs": [
    {
     "name": "stdout",
     "output_type": "stream",
     "text": [
      "Best Mean Cross Validation Score is 0.9162478075612354\n",
      "Best parameters are {'criterion': 'entropy', 'max_depth': 8, 'max_features': 'auto', 'n_estimators': 500}\n",
      "Train score is 0.9371735178076348\n",
      "Test score is 0.9131837118666846\n",
      "Val score is 0.916296788077196\n"
     ]
    }
   ],
   "source": [
    "print(f'Best Mean Cross Validation Score is {rfc_grid.best_score_}')\n",
    "print(f'Best parameters are {rfc_grid.best_params_}')\n",
    "print(f'Train score is {rfc_grid.score(X_train,y_train)}')\n",
    "print(f'Test score is {rfc_grid.score(X_test,y_test)}')\n",
    "print(f'Val score is {rfc_grid.score(X_val,y_val)}')"
   ]
  },
  {
   "cell_type": "markdown",
   "metadata": {},
   "source": [
    "## Extra-trees"
   ]
  },
  {
   "cell_type": "code",
   "execution_count": null,
   "metadata": {
    "ExecuteTime": {
     "end_time": "2020-05-03T23:09:47.107143Z",
     "start_time": "2020-05-03T23:08:45.061Z"
    }
   },
   "outputs": [],
   "source": [
    "from  sklearn.ensemble import ExtraTreesClassifier"
   ]
  },
  {
   "cell_type": "code",
   "execution_count": null,
   "metadata": {
    "ExecuteTime": {
     "end_time": "2020-05-03T23:09:47.109139Z",
     "start_time": "2020-05-03T23:08:45.068Z"
    }
   },
   "outputs": [],
   "source": [
    "etc= ExtraTreesClassifier(random_state=42)\n",
    "etc_param = { \n",
    "    'n_estimators': [200, 500],\n",
    "    'max_features': ['auto', 'sqrt', 'log2'],\n",
    "    'max_depth' : [2,4,5,6,7,8],\n",
    "    'criterion' :['gini', 'entropy']\n",
    "}\n",
    "etc_grid = GridSearchCV(etc, etc_param,cv=5, return_train_score=True, scoring='roc_auc')\n",
    "etc_grid.fit(X_train,y_train)"
   ]
  },
  {
   "cell_type": "code",
   "execution_count": 120,
   "metadata": {
    "ExecuteTime": {
     "end_time": "2020-05-03T23:10:54.488196Z",
     "start_time": "2020-05-03T23:10:51.309698Z"
    }
   },
   "outputs": [
    {
     "name": "stdout",
     "output_type": "stream",
     "text": [
      "Best Mean Cross Validation Score is 0.9020786273695421\n",
      "Best Mean Cross Validation Score is {'criterion': 'entropy', 'max_depth': 8, 'max_features': 'auto', 'n_estimators': 500}\n",
      "Train score is 0.9135381877799104\n",
      "Test score is 0.8974555391300454\n",
      "Val score is 0.8998310478239966\n"
     ]
    }
   ],
   "source": [
    "print(f'Best Mean Cross Validation Score is {etc_grid.best_score_}')\n",
    "print(f'Best Mean Cross Validation Score is {etc_grid.best_params_}')\n",
    "print(f'Train score is {etc_grid.score(X_train,y_train)}')\n",
    "print(f'Test score is {etc_grid.score(X_test,y_test)}')\n",
    "print(f'Val score is {etc_grid.score(X_val,y_val)}')"
   ]
  },
  {
   "cell_type": "markdown",
   "metadata": {},
   "source": [
    "## Ada boost"
   ]
  },
  {
   "cell_type": "code",
   "execution_count": null,
   "metadata": {
    "ExecuteTime": {
     "end_time": "2020-05-03T23:09:47.115137Z",
     "start_time": "2020-05-03T23:08:45.083Z"
    }
   },
   "outputs": [],
   "source": [
    "from sklearn.ensemble import AdaBoostClassifier"
   ]
  },
  {
   "cell_type": "markdown",
   "metadata": {},
   "source": [
    "### adc_tree"
   ]
  },
  {
   "cell_type": "code",
   "execution_count": null,
   "metadata": {
    "ExecuteTime": {
     "end_time": "2020-05-03T23:09:47.117136Z",
     "start_time": "2020-05-03T23:08:45.092Z"
    }
   },
   "outputs": [],
   "source": [
    "adc_dtree =AdaBoostClassifier(base_estimator=DecisionTreeClassifier(),random_state=42)\n",
    "adc_dtree_param = {\n",
    "              'base_estimator__criterion' : [\"gini\", \"entropy\"],\n",
    "              'base_estimator__splitter' :   [\"best\", \"random\"],\n",
    "              'base_estimator__max_depth' : [2,4,6],\n",
    "              'n_estimators' : [100,150],\n",
    "              'learning_rate' : [0.5,1.0,2],\n",
    "             }\n",
    "adc_dtree_grid = GridSearchCV(adc_dtree, adc_dtree_param,cv=5, return_train_score=True, scoring='roc_auc')\n",
    "adc_dtree_grid.fit(X_train,y_train)"
   ]
  },
  {
   "cell_type": "code",
   "execution_count": 121,
   "metadata": {
    "ExecuteTime": {
     "end_time": "2020-05-03T23:11:00.789693Z",
     "start_time": "2020-05-03T23:10:59.216493Z"
    }
   },
   "outputs": [
    {
     "name": "stdout",
     "output_type": "stream",
     "text": [
      "Best Mean Cross Validation Score is 0.9115218116613418\n",
      "Best Mean Cross Validation Score is {'base_estimator__criterion': 'entropy', 'base_estimator__max_depth': 2, 'base_estimator__splitter': 'random', 'learning_rate': 0.5, 'n_estimators': 100}\n",
      "Train score is 0.9213871427809768\n",
      "Test score is 0.9058858340583349\n",
      "Val score is 0.911551475469884\n"
     ]
    }
   ],
   "source": [
    "print(f'Best Mean Cross Validation Score is {adc_dtree_grid.best_score_}')\n",
    "print(f'Best Mean Cross Validation Score is {adc_dtree_grid.best_params_}')\n",
    "print(f'Train score is {adc_dtree_grid.score(X_train,y_train)}')\n",
    "print(f'Test score is {adc_dtree_grid.score(X_test,y_test)}')\n",
    "print(f'Val score is {adc_dtree_grid.score(X_val,y_val)}')"
   ]
  },
  {
   "cell_type": "markdown",
   "metadata": {},
   "source": [
    "### adc_rf"
   ]
  },
  {
   "cell_type": "code",
   "execution_count": null,
   "metadata": {
    "ExecuteTime": {
     "end_time": "2020-05-03T23:09:47.122132Z",
     "start_time": "2020-05-03T23:08:45.107Z"
    }
   },
   "outputs": [],
   "source": [
    "adc_rf =AdaBoostClassifier(base_estimator=RandomForestClassifier(random_state=42,n_estimators=500,max_features='auto',max_depth=8,criterion='entropy'))\n",
    "\n",
    "adc_rf_param = {\n",
    "                }\n",
    "\n",
    "adc_rf_grid = GridSearchCV(adc_rf, adc_rf_param,cv=5, return_train_score=True, scoring='roc_auc')\n",
    "adc_rf_grid.fit(X_train,y_train)"
   ]
  },
  {
   "cell_type": "code",
   "execution_count": 122,
   "metadata": {
    "ExecuteTime": {
     "end_time": "2020-05-03T23:13:44.578448Z",
     "start_time": "2020-05-03T23:11:14.217391Z"
    }
   },
   "outputs": [
    {
     "name": "stdout",
     "output_type": "stream",
     "text": [
      "Best Mean Cross Validation Score is 0.9155593138445154\n",
      "Best parameters are {}\n",
      "Train score is 0.9999914294092557\n",
      "Test score is 0.9105930395131762\n",
      "Val score is 0.9195661729356012\n"
     ]
    }
   ],
   "source": [
    "print(f'Best Mean Cross Validation Score is {adc_rf_grid.best_score_}')\n",
    "print(f'Best parameters are {adc_rf_grid.best_params_}')\n",
    "print(f'Train score is {adc_rf_grid.score(X_train,y_train)}')\n",
    "print(f'Test score is {adc_rf_grid.score(X_test,y_test)}')\n",
    "print(f'Val score is {adc_rf_grid.score(X_val,y_val)}')"
   ]
  },
  {
   "cell_type": "markdown",
   "metadata": {},
   "source": [
    "## Gradient boost"
   ]
  },
  {
   "cell_type": "code",
   "execution_count": null,
   "metadata": {
    "ExecuteTime": {
     "end_time": "2020-05-03T23:09:47.126130Z",
     "start_time": "2020-05-03T23:08:45.121Z"
    }
   },
   "outputs": [],
   "source": [
    "from  sklearn.ensemble import GradientBoostingClassifier\n",
    "gbc= GradientBoostingClassifier(random_state=42)\n",
    "gbc_param = {\n",
    "              'max_depth' : [2,3,4],\n",
    "              'n_estimators' : [100,150],\n",
    "              'learning_rate' : [0.5,1.0,2],\n",
    "             }\n",
    "gbc_grid = GridSearchCV(gbc, gbc_param,cv=5, return_train_score=True, scoring='roc_auc')\n",
    "gbc_grid.fit(X_train,y_train)"
   ]
  },
  {
   "cell_type": "code",
   "execution_count": 123,
   "metadata": {
    "ExecuteTime": {
     "end_time": "2020-05-03T23:13:50.416215Z",
     "start_time": "2020-05-03T23:13:50.279281Z"
    }
   },
   "outputs": [
    {
     "name": "stdout",
     "output_type": "stream",
     "text": [
      "Best Mean Cross Validation Score is 0.919113330457934\n",
      "Best parameters are {'learning_rate': 0.5, 'max_depth': 3, 'n_estimators': 100}\n",
      "Train score is 0.946681588558328\n",
      "Test score is 0.9165246135093141\n",
      "Val score is 0.9202021473867357\n"
     ]
    }
   ],
   "source": [
    "print(f'Best Mean Cross Validation Score is {gbc_grid.best_score_}')\n",
    "print(f'Best parameters are {gbc_grid.best_params_}')\n",
    "print(f'Train score is {gbc_grid.score(X_train,y_train)}')\n",
    "print(f'Test score is {gbc_grid.score(X_test,y_test)}')\n",
    "print(f'Val score is {gbc_grid.score(X_val,y_val)}')"
   ]
  },
  {
   "cell_type": "markdown",
   "metadata": {},
   "source": [
    "## XG boost"
   ]
  },
  {
   "cell_type": "code",
   "execution_count": null,
   "metadata": {
    "ExecuteTime": {
     "end_time": "2020-05-03T23:09:47.130128Z",
     "start_time": "2020-05-03T23:08:45.137Z"
    }
   },
   "outputs": [],
   "source": [
    "from xgboost import XGBClassifier"
   ]
  },
  {
   "cell_type": "code",
   "execution_count": null,
   "metadata": {
    "ExecuteTime": {
     "end_time": "2020-05-03T23:09:47.133126Z",
     "start_time": "2020-05-03T23:08:45.143Z"
    }
   },
   "outputs": [],
   "source": [
    "from  xgboost import XGBClassifier\n",
    "xgbc= XGBClassifier(random_state=42,early_stopping_rounds=2,objective= 'binary:logistic')\n",
    "xgbc_param = {\n",
    "              'max_depth' : [2,4,6],\n",
    "              'n_estimators' : [50,100,150],\n",
    "              'learning_rate' : [0.1,0.5,0.8],\n",
    "               'min_child_weight' : [1,3,5,7],\n",
    "                'subsample':[0.6,0.7,0.8,0.9,1]\n",
    "             }\n",
    "xgbc_grid = GridSearchCV(xgbc, xgbc_param,cv=5, return_train_score=True,scoring='roc_auc' )\n",
    "xgbc_grid.fit(X_train,y_train)"
   ]
  },
  {
   "cell_type": "code",
   "execution_count": 124,
   "metadata": {
    "ExecuteTime": {
     "end_time": "2020-05-03T23:13:53.962906Z",
     "start_time": "2020-05-03T23:13:53.645090Z"
    }
   },
   "outputs": [
    {
     "name": "stdout",
     "output_type": "stream",
     "text": [
      "Best Mean Cross Validation Score is 0.9273613274760383\n",
      "Best parameters {'learning_rate': 0.1, 'max_depth': 6, 'min_child_weight': 7, 'n_estimators': 150, 'subsample': 0.9}\n",
      "Train score is 0.9625074509490297\n",
      "Test score is 0.9224629070323976\n",
      "Val score is 0.9284558503697259\n"
     ]
    }
   ],
   "source": [
    "print(f'Best Mean Cross Validation Score is {xgbc_grid.best_score_}')\n",
    "print(f'Best parameters {xgbc_grid.best_params_}')\n",
    "print(f'Train score is {xgbc_grid.score(X_train,y_train)}')\n",
    "print(f'Test score is {xgbc_grid.score(X_test,y_test)}')\n",
    "print(f'Val score is {xgbc_grid.score(X_val,y_val)}')"
   ]
  },
  {
   "cell_type": "markdown",
   "metadata": {},
   "source": [
    "## Summary"
   ]
  },
  {
   "cell_type": "markdown",
   "metadata": {},
   "source": [
    "### All classifiers"
   ]
  },
  {
   "cell_type": "code",
   "execution_count": null,
   "metadata": {
    "ExecuteTime": {
     "end_time": "2020-05-03T23:09:47.137125Z",
     "start_time": "2020-05-03T23:08:45.156Z"
    }
   },
   "outputs": [],
   "source": [
    "classifiers={'knn':knn_grid ,\n",
    "             'logreg':logreg_grid,\n",
    "#             'lsvc':lsvc_grid,\n",
    "#            'ksvc':ksvc_grid,\n",
    "             'dtree':dtree_grid,\n",
    "#            'bag_dtree1':bag_dtree1_grid,\n",
    "#            'bag_dtree1':bag_dtree2_grid,\n",
    "#            'bag_logreg1':bag_logreg1_grid,\n",
    "#            'paste_dtree1': paste_dtree1_grid,\n",
    "#            'paste_dtree1':paste_dtree2_grid,\n",
    "#            'paste_logreg1': paste_logreg1_grid,\n",
    "             'rfc': rfc_grid,\n",
    "             'etc': etc_grid,\n",
    "             'adc_dtree':adc_dtree_grid,\n",
    "             'adc_rf':adc_rf_grid,\n",
    "             'gbc': gbc_grid,\n",
    "             'xgbc': xgbc_grid}"
   ]
  },
  {
   "cell_type": "code",
   "execution_count": null,
   "metadata": {
    "ExecuteTime": {
     "end_time": "2020-05-03T23:09:47.139122Z",
     "start_time": "2020-05-03T23:08:45.160Z"
    }
   },
   "outputs": [],
   "source": [
    "results_mean_std = []\n",
    "for  key, value in classifiers.items():\n",
    "    mean = value.cv_results_['mean_test_score'][value.best_index_]\n",
    "    std=value.cv_results_['std_test_score'][value.best_index_]\n",
    "     \n",
    "    results_mean_std.append({\n",
    "        \"model\": key,\n",
    "        \"mean\": mean,\n",
    "        \"std\": std\n",
    "    })"
   ]
  },
  {
   "cell_type": "code",
   "execution_count": 125,
   "metadata": {
    "ExecuteTime": {
     "end_time": "2020-05-03T23:14:03.707898Z",
     "start_time": "2020-05-03T23:14:03.690909Z"
    }
   },
   "outputs": [
    {
     "data": {
      "text/html": [
       "<div>\n",
       "<style scoped>\n",
       "    .dataframe tbody tr th:only-of-type {\n",
       "        vertical-align: middle;\n",
       "    }\n",
       "\n",
       "    .dataframe tbody tr th {\n",
       "        vertical-align: top;\n",
       "    }\n",
       "\n",
       "    .dataframe thead th {\n",
       "        text-align: right;\n",
       "    }\n",
       "</style>\n",
       "<table border=\"1\" class=\"dataframe\">\n",
       "  <thead>\n",
       "    <tr style=\"text-align: right;\">\n",
       "      <th></th>\n",
       "      <th>model</th>\n",
       "      <th>mean</th>\n",
       "      <th>std</th>\n",
       "    </tr>\n",
       "  </thead>\n",
       "  <tbody>\n",
       "    <tr>\n",
       "      <th>8</th>\n",
       "      <td>xgbc</td>\n",
       "      <td>0.927361</td>\n",
       "      <td>0.005129</td>\n",
       "    </tr>\n",
       "    <tr>\n",
       "      <th>7</th>\n",
       "      <td>gbc</td>\n",
       "      <td>0.919113</td>\n",
       "      <td>0.005684</td>\n",
       "    </tr>\n",
       "    <tr>\n",
       "      <th>3</th>\n",
       "      <td>rfc</td>\n",
       "      <td>0.916248</td>\n",
       "      <td>0.006837</td>\n",
       "    </tr>\n",
       "    <tr>\n",
       "      <th>6</th>\n",
       "      <td>adc_rf</td>\n",
       "      <td>0.915559</td>\n",
       "      <td>0.004875</td>\n",
       "    </tr>\n",
       "    <tr>\n",
       "      <th>5</th>\n",
       "      <td>adc_dtree</td>\n",
       "      <td>0.911522</td>\n",
       "      <td>0.003954</td>\n",
       "    </tr>\n",
       "    <tr>\n",
       "      <th>4</th>\n",
       "      <td>etc</td>\n",
       "      <td>0.902079</td>\n",
       "      <td>0.005913</td>\n",
       "    </tr>\n",
       "    <tr>\n",
       "      <th>1</th>\n",
       "      <td>logreg</td>\n",
       "      <td>0.874045</td>\n",
       "      <td>0.004953</td>\n",
       "    </tr>\n",
       "    <tr>\n",
       "      <th>0</th>\n",
       "      <td>knn</td>\n",
       "      <td>0.839010</td>\n",
       "      <td>0.005369</td>\n",
       "    </tr>\n",
       "    <tr>\n",
       "      <th>2</th>\n",
       "      <td>dtree</td>\n",
       "      <td>0.794671</td>\n",
       "      <td>0.017171</td>\n",
       "    </tr>\n",
       "  </tbody>\n",
       "</table>\n",
       "</div>"
      ],
      "text/plain": [
       "       model      mean       std\n",
       "8       xgbc  0.927361  0.005129\n",
       "7        gbc  0.919113  0.005684\n",
       "3        rfc  0.916248  0.006837\n",
       "6     adc_rf  0.915559  0.004875\n",
       "5  adc_dtree  0.911522  0.003954\n",
       "4        etc  0.902079  0.005913\n",
       "1     logreg  0.874045  0.004953\n",
       "0        knn  0.839010  0.005369\n",
       "2      dtree  0.794671  0.017171"
      ]
     },
     "execution_count": 125,
     "metadata": {},
     "output_type": "execute_result"
    }
   ],
   "source": [
    "# Create a Pandas DataFrame with the mean+std results\n",
    "accuracy_df = pd.DataFrame(results_mean_std, columns=['model', 'mean', 'std'])\n",
    "\n",
    "# Show the accuracy dataframe\n",
    "\n",
    "accuracy_df.sort_values(by=['mean'], inplace=True,ascending=False)\n",
    "accuracy_df"
   ]
  },
  {
   "cell_type": "markdown",
   "metadata": {},
   "source": [
    "### Correlation"
   ]
  },
  {
   "cell_type": "code",
   "execution_count": null,
   "metadata": {
    "ExecuteTime": {
     "end_time": "2020-05-03T23:09:47.143120Z",
     "start_time": "2020-05-03T23:08:45.178Z"
    }
   },
   "outputs": [],
   "source": [
    "# Create a prediction of all models on the test set\n",
    "predictions_all = {}\n",
    "for  key, value in classifiers.items():\n",
    "    # Get best estimator\n",
    "    best_model = value.best_estimator_\n",
    "    \n",
    "    # Predict test labels\n",
    "    predictions = best_model.predict(X_val)\n",
    "    \n",
    "    # Save predictions to a list\n",
    "    predictions_all[key] = predictions"
   ]
  },
  {
   "cell_type": "code",
   "execution_count": null,
   "metadata": {
    "ExecuteTime": {
     "end_time": "2020-05-03T23:09:47.145119Z",
     "start_time": "2020-05-03T23:08:45.183Z"
    }
   },
   "outputs": [],
   "source": [
    "# Creat a DataFrame for the predictions\n",
    "pred = pd.DataFrame(predictions_all)"
   ]
  },
  {
   "cell_type": "code",
   "execution_count": 128,
   "metadata": {
    "ExecuteTime": {
     "end_time": "2020-05-03T23:21:35.098972Z",
     "start_time": "2020-05-03T23:21:34.404797Z"
    }
   },
   "outputs": [
    {
     "data": {
      "text/plain": [
       "Text(0.5, 1, 'Correlation of the test set label prediction between models')"
      ]
     },
     "execution_count": 128,
     "metadata": {},
     "output_type": "execute_result"
    },
    {
     "data": {
      "image/png": "[encoded data removed]",
      "text/plain": [
       "<Figure size 648x432 with 2 Axes>"
      ]
     },
     "metadata": {
      "needs_background": "light"
     },
     "output_type": "display_data"
    }
   ],
   "source": [
    "# Plot a heatmap of all correlations for easier visualization\n",
    "fig, ax = plt.subplots(nrows=1, ncols=1, figsize=(9,6))\n",
    "g = sns.heatmap(pred.corr(), annot=True, cmap='coolwarm', ax=ax)\n",
    "g.set_title('Correlation of the test set label prediction between models')"
   ]
  },
  {
   "cell_type": "code",
   "execution_count": null,
   "metadata": {
    "ExecuteTime": {
     "end_time": "2020-05-03T23:09:47.150117Z",
     "start_time": "2020-05-03T23:08:45.196Z"
    }
   },
   "outputs": [],
   "source": [
    "def get_redundant_pairs(df):\n",
    "    '''Get diagonal and lower triangular pairs of correlation matrix'''\n",
    "    pairs_to_drop = set()\n",
    "    cols = df.columns\n",
    "    for i in range(0, df.shape[1]):\n",
    "        for j in range(0, i+1):\n",
    "            pairs_to_drop.add((cols[i], cols[j]))\n",
    "    return pairs_to_drop\n",
    "\n",
    "def get_top_abs_correlations(df, n=5):\n",
    "    au_corr = df.corr().abs().unstack()\n",
    "    labels_to_drop = get_redundant_pairs(df)\n",
    "    au_corr = au_corr.drop(labels=labels_to_drop).sort_values(ascending=True)\n",
    "    return au_corr[0:n]\n",
    "\n"
   ]
  },
  {
   "cell_type": "code",
   "execution_count": 126,
   "metadata": {
    "ExecuteTime": {
     "end_time": "2020-05-03T23:14:10.877600Z",
     "start_time": "2020-05-03T23:14:10.855597Z"
    }
   },
   "outputs": [
    {
     "name": "stdout",
     "output_type": "stream",
     "text": [
      "Top Absolute Correlations\n",
      "dtree   etc     0.050737\n",
      "logreg  etc     0.220105\n",
      "dtree   rfc     0.224211\n",
      "etc     xgbc    0.258012\n",
      "        gbc     0.261597\n",
      "dtype: float64\n"
     ]
    }
   ],
   "source": [
    "print(\"Top Absolute Correlations\")\n",
    "print(get_top_abs_correlations(pred))"
   ]
  },
  {
   "cell_type": "markdown",
   "metadata": {},
   "source": [
    "## Stacking "
   ]
  },
  {
   "cell_type": "code",
   "execution_count": null,
   "metadata": {},
   "outputs": [],
   "source": [
    "classifiers={'knn':knn_grid ,\n",
    "             'logreg':logreg_grid,\n",
    "#             'lsvc':lsvc_grid,\n",
    "#            'ksvc':ksvc_grid,\n",
    "             'dtree':dtree_grid,\n",
    "#            'bag_dtree1':bag_dtree1_grid,\n",
    "#            'bag_dtree1':bag_dtree2_grid,\n",
    "#            'bag_logreg1':bag_logreg1_grid,\n",
    "#            'paste_dtree1': paste_dtree1_grid,\n",
    "#            'paste_dtree1':paste_dtree2_grid,\n",
    "#            'paste_logreg1': paste_logreg1_grid,\n",
    "             'rfc': rfc_grid,\n",
    "             'etc': etc_grid,\n",
    "             'adc_dtree':adc_dtree_grid,\n",
    "             'adc_rf':adc_rf_grid,\n",
    "             'gbc': gbc_grid,\n",
    "             'xgbc': xgbc_grid}"
   ]
  },
  {
   "cell_type": "code",
   "execution_count": 129,
   "metadata": {
    "ExecuteTime": {
     "end_time": "2020-05-03T23:24:21.249750Z",
     "start_time": "2020-05-03T23:24:21.243754Z"
    }
   },
   "outputs": [],
   "source": [
    "#top 3 estimators\n",
    "estimators_ = [('rfc',rfc_grid.best_estimator_),\n",
    "               ('etc',etc_grid.best_estimator_),\n",
    "               ('gbc',gbc_grid.best_estimator_)]"
   ]
  },
  {
   "cell_type": "code",
   "execution_count": 131,
   "metadata": {
    "ExecuteTime": {
     "end_time": "2020-05-03T23:46:41.699718Z",
     "start_time": "2020-05-03T23:26:57.480274Z"
    }
   },
   "outputs": [
    {
     "name": "stdout",
     "output_type": "stream",
     "text": [
      "Best Mean Cross Validation Score is 0.9198597159744409\n",
      "Best parameters are {'final_estimator__learning_rate': 0.1, 'final_estimator__max_depth': 6, 'final_estimator__min_child_weight': 7, 'final_estimator__n_estimators': 150, 'final_estimator__subsample': 0.9, 'stack_method': 'auto'}\n",
      "Train score is 0.9418481352633824\n",
      "Test score is 0.9186270002381306\n"
     ]
    }
   ],
   "source": [
    "from sklearn.ensemble import StackingClassifier\n",
    "\n",
    "sclf1 = StackingClassifier(estimators= estimators_\n",
    "                            , final_estimator=XGBClassifier())\n",
    "sclf1_param = {\n",
    "                'final_estimator__max_depth' : [6],\n",
    "              'final_estimator__n_estimators' : [150],\n",
    "              'final_estimator__learning_rate' : [0.1],\n",
    "               'final_estimator__min_child_weight' : [7],\n",
    "                'final_estimator__subsample':[0.9],\n",
    "              'stack_method':['auto', 'predict_proba']\n",
    "             }\n",
    "sclf1_grid = GridSearchCV(sclf1, sclf1_param,cv=5, return_train_score=True,scoring='roc_auc' )\n",
    "sclf1_grid.fit(X_train,y_train)\n",
    "\n",
    "print(f'Best Mean Cross Validation Score is {sclf1_grid.best_score_}')\n",
    "print(f'Best parameters are {sclf1_grid.best_params_}')\n",
    "print(f'Train score is {sclf1_grid.score(X_train,y_train)}')\n",
    "print(f'Test score is {sclf1_grid.score(X_test,y_test)}')\n",
    "\n",
    "#Best parameters {'learning_rate': 0.1, 'max_depth': 6, 'min_child_weight': 7, 'n_estimators': 150, 'subsample': 0.9}"
   ]
  },
  {
   "cell_type": "markdown",
   "metadata": {},
   "source": [
    "# Cost Sensitive Algorithms"
   ]
  },
  {
   "cell_type": "markdown",
   "metadata": {
    "ExecuteTime": {
     "end_time": "2020-05-02T17:35:58.579561Z",
     "start_time": "2020-05-02T17:35:58.575565Z"
    }
   },
   "source": [
    "## Logistic"
   ]
  },
  {
   "cell_type": "code",
   "execution_count": 132,
   "metadata": {
    "ExecuteTime": {
     "end_time": "2020-05-03T23:49:13.220495Z",
     "start_time": "2020-05-03T23:49:07.888076Z"
    }
   },
   "outputs": [
    {
     "name": "stdout",
     "output_type": "stream",
     "text": [
      "Best parameters: {'class_weight': {0: 1, 1: 10}}\n",
      "Best Mean cross-validation score: 0.88\n"
     ]
    }
   ],
   "source": [
    "logreg = LogisticRegression(solver='lbfgs')\n",
    "param_grid = {\n",
    "    \n",
    "    'class_weight': [{0:100,1:1}, {0:10,1:1}, {0:1,1:1}, {0:1,1:10}, {0:1,1:100}],\n",
    "}\n",
    "\n",
    "#apply grid search\n",
    "grid_logreg= GridSearchCV(logreg, param_grid, cv=5, n_jobs=2, scoring='roc_auc')\n",
    "grid_logreg.fit(X_train, y_train)\n",
    "\n",
    "print(\"Best parameters: {}\".format(grid_logreg.best_params_))\n",
    "print(\"Best Mean cross-validation score: {:.2f}\".format(grid_logreg.best_score_))"
   ]
  },
  {
   "cell_type": "markdown",
   "metadata": {},
   "source": [
    "## Decision tree"
   ]
  },
  {
   "cell_type": "code",
   "execution_count": 133,
   "metadata": {
    "ExecuteTime": {
     "end_time": "2020-05-03T23:49:17.261101Z",
     "start_time": "2020-05-03T23:49:13.224493Z"
    }
   },
   "outputs": [
    {
     "name": "stdout",
     "output_type": "stream",
     "text": [
      "Best parameters: {'class_weight': {0: 100, 1: 1}}\n",
      "Best Mean cross-validation score: 0.71\n"
     ]
    }
   ],
   "source": [
    "dtree = DecisionTreeClassifier()\n",
    "param_grid = {\n",
    "    \n",
    "    'class_weight': [{0:100,1:1}, {0:10,1:1}, {0:1,1:1}, {0:1,1:10}, {0:1,1:100}],\n",
    "}\n",
    "\n",
    "#apply grid search\n",
    "grid_dtree= GridSearchCV(dtree, param_grid, cv=5, n_jobs=2, scoring='roc_auc')\n",
    "grid_dtree.fit(X_train, y_train)\n",
    "\n",
    "print(\"Best parameters: {}\".format(grid_dtree.best_params_))\n",
    "print(\"Best Mean cross-validation score: {:.2f}\".format(grid_dtree.best_score_))"
   ]
  },
  {
   "cell_type": "markdown",
   "metadata": {},
   "source": [
    "## SVM"
   ]
  },
  {
   "cell_type": "code",
   "execution_count": 134,
   "metadata": {
    "ExecuteTime": {
     "end_time": "2020-05-03T23:54:41.862260Z",
     "start_time": "2020-05-03T23:49:17.265099Z"
    }
   },
   "outputs": [
    {
     "name": "stdout",
     "output_type": "stream",
     "text": [
      "Best parameters: {'class_weight': {0: 1, 1: 10}}\n",
      "Best Mean cross-validation score: 0.89\n"
     ]
    }
   ],
   "source": [
    "svc = SVC()\n",
    "param_grid = {\n",
    "    \n",
    "    'class_weight': [{0:100,1:1}, {0:10,1:1}, {0:1,1:1}, {0:1,1:10}, {0:1,1:100}],\n",
    "}\n",
    "\n",
    "#apply grid search\n",
    "grid_svc= GridSearchCV(svc, param_grid, cv=5, n_jobs=2, scoring='roc_auc')\n",
    "grid_svc.fit(X_train, y_train)\n",
    "\n",
    "print(\"Best parameters: {}\".format(grid_svc.best_params_))\n",
    "print(\"Best Mean cross-validation score: {:.2f}\".format(grid_svc.best_score_))"
   ]
  },
  {
   "cell_type": "markdown",
   "metadata": {},
   "source": [
    "## Random Forest"
   ]
  },
  {
   "cell_type": "code",
   "execution_count": 135,
   "metadata": {
    "ExecuteTime": {
     "end_time": "2020-05-03T23:56:28.078387Z",
     "start_time": "2020-05-03T23:54:41.865259Z"
    }
   },
   "outputs": [
    {
     "name": "stdout",
     "output_type": "stream",
     "text": [
      "Best Mean Cross Validation Score is 0.9182026780085197\n",
      "Best parameters are {'class_weight': {0: 1, 1: 1}}\n"
     ]
    }
   ],
   "source": [
    "rfc =RandomForestClassifier(random_state=42)\n",
    "rfc_param = { \n",
    "    \n",
    "    'class_weight': [{0:100,1:1}, {0:10,1:1}, {0:1,1:1}, {0:1,1:10}, {0:1,1:100}],\n",
    "\n",
    "}\n",
    "\n",
    "grid_rfc = GridSearchCV(rfc, rfc_param,cv=5, return_train_score=True, scoring='roc_auc')\n",
    "grid_rfc.fit(X_train,y_train)\n",
    "\n",
    "print(f'Best Mean Cross Validation Score is {grid_rfc.best_score_}')\n",
    "print(f'Best parameters are {grid_rfc.best_params_}')\n",
    "\n"
   ]
  },
  {
   "cell_type": "markdown",
   "metadata": {},
   "source": [
    "## XG Boost"
   ]
  },
  {
   "cell_type": "code",
   "execution_count": 136,
   "metadata": {
    "ExecuteTime": {
     "end_time": "2020-05-03T23:57:59.431413Z",
     "start_time": "2020-05-03T23:56:28.081384Z"
    }
   },
   "outputs": [
    {
     "name": "stdout",
     "output_type": "stream",
     "text": [
      "Best parameters: {'scale_pos_weight': 1}\n",
      "Best Mean cross-validation score: 0.92\n"
     ]
    }
   ],
   "source": [
    "xgboost = XGBClassifier()\n",
    "param_grid = {\n",
    "    \n",
    "    'scale_pos_weight': [1, 10, 25, 50, 75, 99, 100, 1000],\n",
    "}\n",
    "\n",
    "#apply grid search\n",
    "grid_xgboost= GridSearchCV(xgboost, param_grid, cv=5, n_jobs=2, scoring='roc_auc')\n",
    "grid_xgboost.fit(X_train,y_train)\n",
    "\n",
    "print(\"Best parameters: {}\".format(grid_xgboost.best_params_))\n",
    "print(\"Best Mean cross-validation score: {:.2f}\".format(grid_xgboost.best_score_))"
   ]
  },
  {
   "cell_type": "markdown",
   "metadata": {},
   "source": [
    "## Extra trees"
   ]
  },
  {
   "cell_type": "code",
   "execution_count": 137,
   "metadata": {
    "ExecuteTime": {
     "end_time": "2020-05-03T23:59:18.760737Z",
     "start_time": "2020-05-03T23:57:59.434413Z"
    }
   },
   "outputs": [
    {
     "name": "stdout",
     "output_type": "stream",
     "text": [
      "Best parameters: {'class_weight': {0: 10, 1: 1}}\n",
      "Best Mean cross-validation score: 0.92\n"
     ]
    }
   ],
   "source": [
    "etc= ExtraTreesClassifier(random_state=42)\n",
    "etc_param = { \n",
    "    'class_weight': [{0:100,1:1}, {0:10,1:1}, {0:1,1:1}, {0:1,1:10}, {0:1,1:100}],\n",
    "\n",
    "}\n",
    "\n",
    "grid_etc = GridSearchCV(etc, etc_param,cv=5, return_train_score=True, scoring='roc_auc')\n",
    "grid_etc.fit(X_train,y_train)\n",
    "\n",
    "print(\"Best parameters: {}\".format(grid_etc.best_params_))\n",
    "print(\"Best Mean cross-validation score: {:.2f}\".format(grid_etc.best_score_))"
   ]
  },
  {
   "cell_type": "markdown",
   "metadata": {},
   "source": [
    "## Bagging with sampling\n"
   ]
  },
  {
   "cell_type": "code",
   "execution_count": 138,
   "metadata": {
    "ExecuteTime": {
     "end_time": "2020-05-03T23:59:22.937538Z",
     "start_time": "2020-05-03T23:59:18.763733Z"
    }
   },
   "outputs": [],
   "source": [
    "from sklearn.ensemble import BaggingClassifier\n",
    "\n",
    "from numpy import mean\n",
    "from sklearn.datasets import make_classification\n",
    "from sklearn.model_selection import cross_val_score\n",
    "from sklearn.model_selection import RepeatedStratifiedKFold\n",
    "from sklearn.tree import DecisionTreeClassifier\n",
    "from imblearn.pipeline import Pipeline\n",
    "from imblearn.over_sampling import RandomOverSampler\n",
    "from imblearn.over_sampling import SMOTE\n",
    "from imblearn.over_sampling import SVMSMOTE\n",
    "from imblearn.over_sampling import ADASYN\n"
   ]
  },
  {
   "cell_type": "code",
   "execution_count": 139,
   "metadata": {
    "ExecuteTime": {
     "end_time": "2020-05-03T23:59:39.600952Z",
     "start_time": "2020-05-03T23:59:22.941511Z"
    }
   },
   "outputs": [
    {
     "name": "stdout",
     "output_type": "stream",
     "text": [
      "Mean ROC AUC: 0.902\n"
     ]
    }
   ],
   "source": [
    "#Bagging decision tree with under sampling\n",
    "from imblearn.ensemble import BalancedBaggingClassifier\n",
    "\n",
    "b_dtree = BalancedBaggingClassifier(random_state=42)\n",
    "\n",
    "cv = RepeatedStratifiedKFold(n_splits=10, n_repeats=3, random_state=42)\n",
    "\n",
    "scores = cross_val_score(b_dtree, X_train, y_train, scoring='roc_auc', cv=cv, n_jobs=-1)\n",
    "\n",
    "print('Mean ROC AUC: %.3f' % scores.mean())"
   ]
  },
  {
   "cell_type": "code",
   "execution_count": 140,
   "metadata": {
    "ExecuteTime": {
     "end_time": "2020-05-03T23:59:39.612946Z",
     "start_time": "2020-05-03T23:59:39.604950Z"
    }
   },
   "outputs": [
    {
     "data": {
      "text/plain": [
       "0.9019302910926561"
      ]
     },
     "execution_count": 140,
     "metadata": {},
     "output_type": "execute_result"
    }
   ],
   "source": [
    "scores.mean()"
   ]
  },
  {
   "cell_type": "markdown",
   "metadata": {},
   "source": [
    "# Data Sampling Algorithms"
   ]
  },
  {
   "cell_type": "code",
   "execution_count": 141,
   "metadata": {
    "ExecuteTime": {
     "end_time": "2020-05-03T23:59:41.646865Z",
     "start_time": "2020-05-03T23:59:39.616943Z"
    }
   },
   "outputs": [
    {
     "name": "stdout",
     "output_type": "stream",
     "text": [
      "Requirement already satisfied: imblearn in c:\\users\\user\\anaconda3\\envs\\buan6341_2020\\lib\\site-packages (0.0)\n",
      "Requirement already satisfied: imbalanced-learn in c:\\users\\user\\anaconda3\\envs\\buan6341_2020\\lib\\site-packages (from imblearn) (0.6.2)\n",
      "Requirement already satisfied: numpy>=1.11 in c:\\users\\user\\anaconda3\\envs\\buan6341_2020\\lib\\site-packages (from imbalanced-learn->imblearn) (1.17.4)\n",
      "Requirement already satisfied: scipy>=0.17 in c:\\users\\user\\anaconda3\\envs\\buan6341_2020\\lib\\site-packages (from imbalanced-learn->imblearn) (1.4.1)\n",
      "Requirement already satisfied: joblib>=0.11 in c:\\users\\user\\anaconda3\\envs\\buan6341_2020\\lib\\site-packages (from imbalanced-learn->imblearn) (0.14.1)\n",
      "Requirement already satisfied: scikit-learn>=0.22 in c:\\users\\user\\anaconda3\\envs\\buan6341_2020\\lib\\site-packages (from imbalanced-learn->imblearn) (0.22.1)\n",
      "Note: you may need to restart the kernel to use updated packages.\n"
     ]
    }
   ],
   "source": [
    "pip install imblearn"
   ]
  },
  {
   "cell_type": "code",
   "execution_count": null,
   "metadata": {
    "ExecuteTime": {
     "end_time": "2020-05-02T21:03:50.519311Z",
     "start_time": "2020-05-02T20:05:27.996Z"
    }
   },
   "outputs": [],
   "source": []
  },
  {
   "cell_type": "markdown",
   "metadata": {},
   "source": [
    "## Logistic Regression"
   ]
  },
  {
   "cell_type": "code",
   "execution_count": 142,
   "metadata": {
    "ExecuteTime": {
     "end_time": "2020-05-03T23:59:54.602581Z",
     "start_time": "2020-05-03T23:59:41.649862Z"
    }
   },
   "outputs": [
    {
     "name": "stdout",
     "output_type": "stream",
     "text": [
      "Best parameters: {'smote__k_neighbors': 3}\n",
      "Best Mean cross-validation score: 0.87\n"
     ]
    }
   ],
   "source": [
    "#logistic regression\n",
    "pipe_roc_lg = Pipeline([('smote',SMOTE()),('lg',LogisticRegression())])\n",
    "param_roc_lg = {'smote__k_neighbors': [1,2,3,4,5]}\n",
    "\n",
    "ogrid_lg= GridSearchCV(pipe_roc_lg,param_roc_lg, cv=5, n_jobs=2, scoring='roc_auc')\n",
    "ogrid_lg.fit(X_train, y_train)\n",
    "\n",
    "print(\"Best parameters: {}\".format(ogrid_lg.best_params_))\n",
    "print(\"Best Mean cross-validation score: {:.2f}\".format(ogrid_lg.best_score_))"
   ]
  },
  {
   "cell_type": "markdown",
   "metadata": {},
   "source": [
    "## Decision Tree"
   ]
  },
  {
   "cell_type": "code",
   "execution_count": 143,
   "metadata": {
    "ExecuteTime": {
     "end_time": "2020-05-04T00:00:01.872885Z",
     "start_time": "2020-05-03T23:59:54.606579Z"
    }
   },
   "outputs": [
    {
     "name": "stdout",
     "output_type": "stream",
     "text": [
      "Best parameters: {'smote__k_neighbors': 2}\n",
      "Best Mean cross-validation score: 0.87\n"
     ]
    }
   ],
   "source": [
    "#decisiontreee\n",
    "pipe_roc_dtree = Pipeline([('smote',SMOTE()),('dtree',DecisionTreeClassifier(max_depth=5))])\n",
    "param_roc_dtree = {'smote__k_neighbors': [1,2,3,4,5]}\n",
    "\n",
    "ogrid_dtree= GridSearchCV(pipe_roc_dtree,param_roc_dtree, cv=5, n_jobs=2, scoring='roc_auc')\n",
    "ogrid_dtree.fit(X_train, y_train)\n",
    "\n",
    "print(\"Best parameters: {}\".format(ogrid_dtree.best_params_))\n",
    "print(\"Best Mean cross-validation score: {:.2f}\".format(ogrid_dtree.best_score_))"
   ]
  },
  {
   "cell_type": "markdown",
   "metadata": {},
   "source": [
    "## KNN"
   ]
  },
  {
   "cell_type": "code",
   "execution_count": 144,
   "metadata": {
    "ExecuteTime": {
     "end_time": "2020-05-04T00:02:46.320026Z",
     "start_time": "2020-05-04T00:00:01.875886Z"
    }
   },
   "outputs": [
    {
     "name": "stdout",
     "output_type": "stream",
     "text": [
      "Best parameters: {'smote__k_neighbors': 5}\n",
      "Best Mean cross-validation score: 0.83\n"
     ]
    }
   ],
   "source": [
    "#knn\n",
    "pipe_roc_knn = Pipeline([('smote',SMOTE()),('knn',KNeighborsClassifier(n_neighbors=6))])\n",
    "param_roc_knn = {'smote__k_neighbors': [1,2,3,4,5]}\n",
    "\n",
    "ogrid_knn= GridSearchCV(pipe_roc_knn,param_roc_knn, cv=5, n_jobs=2, scoring='roc_auc')\n",
    "ogrid_knn.fit(X_train, y_train)\n",
    "\n",
    "print(\"Best parameters: {}\".format(ogrid_knn.best_params_))\n",
    "print(\"Best Mean cross-validation score: {:.2f}\".format(ogrid_knn.best_score_))"
   ]
  },
  {
   "cell_type": "markdown",
   "metadata": {},
   "source": [
    "## SVM"
   ]
  },
  {
   "cell_type": "code",
   "execution_count": null,
   "metadata": {
    "ExecuteTime": {
     "end_time": "2020-05-04T00:27:14.826922Z",
     "start_time": "2020-05-04T00:02:46.324024Z"
    }
   },
   "outputs": [],
   "source": [
    "'''\n",
    "#svm\n",
    "pipe_roc_svm = Pipeline([('smote',SMOTE()),('svm',SVC(C=10,gamma=0.1,kernel='rbf'))])\n",
    "param_roc_svm = {'smote__k_neighbors': [1,2,3,4,5]}\n",
    "\n",
    "ogrid_svm= GridSearchCV(pipe_roc_svm,param_roc_svm, cv=5, n_jobs=2, scoring='roc_auc')\n",
    "ogrid_svm.fit(X_train, y_train)\n",
    "\n",
    "print(\"Best parameters: {}\".format(ogrid_svm.best_params_))\n",
    "print(\"Best Mean cross-validation score: {:.2f}\".format(ogrid_svm.best_score_))\n",
    "'''"
   ]
  },
  {
   "cell_type": "markdown",
   "metadata": {},
   "source": [
    "## Random forest"
   ]
  },
  {
   "cell_type": "code",
   "execution_count": 146,
   "metadata": {
    "ExecuteTime": {
     "end_time": "2020-05-04T00:36:58.777111Z",
     "start_time": "2020-05-04T00:28:29.910824Z"
    }
   },
   "outputs": [
    {
     "name": "stdout",
     "output_type": "stream",
     "text": [
      "Best parameters: {'smote__k_neighbors': 1}\n",
      "Best Mean cross-validation score: 0.909\n"
     ]
    }
   ],
   "source": [
    "#randomforest\n",
    "pipe_roc_rf = Pipeline([('smote',SMOTE()),('rf',RandomForestClassifier(n_estimators=500,criterion='entropy',\n",
    "                                                                       max_features='auto',max_depth=8))])\n",
    "param_roc_rf = {'smote__k_neighbors': [1,2,3,4,5],\n",
    "               }\n",
    "\n",
    "ogrid_rf= GridSearchCV(pipe_roc_rf,param_roc_rf, cv=5, n_jobs=2, scoring='roc_auc')\n",
    "ogrid_rf.fit(X_train, y_train)\n",
    "\n",
    "print(\"Best parameters: {}\".format(ogrid_rf.best_params_))\n",
    "print(\"Best Mean cross-validation score: {:.3f}\".format(ogrid_rf.best_score_))\n"
   ]
  },
  {
   "cell_type": "markdown",
   "metadata": {},
   "source": [
    "## Easy Ensemble Classifier"
   ]
  },
  {
   "cell_type": "code",
   "execution_count": 147,
   "metadata": {
    "ExecuteTime": {
     "end_time": "2020-05-04T00:45:09.942312Z",
     "start_time": "2020-05-04T00:36:58.781110Z"
    }
   },
   "outputs": [
    {
     "name": "stdout",
     "output_type": "stream",
     "text": [
      "Best parameters: {'smote__k_neighbors': 1}\n",
      "Best Mean cross-validation score: 0.89\n"
     ]
    }
   ],
   "source": [
    "#easy ensemble classifier\n",
    "from imblearn.ensemble import EasyEnsembleClassifier\n",
    "pipe_roc_ee = Pipeline([('smote',SMOTE()),('ee',EasyEnsembleClassifier())])\n",
    "param_roc_ee = {'smote__k_neighbors': [1,2,3,4,5]}\n",
    "\n",
    "ogrid_ee= GridSearchCV(pipe_roc_ee,param_roc_ee, cv=5, n_jobs=2, scoring='roc_auc')\n",
    "ogrid_ee.fit(X_train, y_train)\n",
    "\n",
    "print(\"Best parameters: {}\".format(ogrid_ee.best_params_))\n",
    "print(\"Best Mean cross-validation score: {:.2f}\".format(ogrid_ee.best_score_))"
   ]
  },
  {
   "cell_type": "markdown",
   "metadata": {},
   "source": [
    "## XgBoost"
   ]
  },
  {
   "cell_type": "code",
   "execution_count": 148,
   "metadata": {
    "ExecuteTime": {
     "end_time": "2020-05-04T00:48:15.793730Z",
     "start_time": "2020-05-04T00:45:09.947311Z"
    }
   },
   "outputs": [
    {
     "name": "stdout",
     "output_type": "stream",
     "text": [
      "Best parameters: {'smote__k_neighbors': 3, 'xgb__learning_rate': 0.5}\n",
      "Best Mean cross-validation score: 0.92\n"
     ]
    }
   ],
   "source": [
    "#xgb\n",
    "pipe_roc_xgb = Pipeline([('smote',SMOTE()),('xgb',XGBClassifier(random_state=42,\n",
    "                                                                            early_stopping_rounds=2,\n",
    "                                                                            n_estimators=100,\n",
    "                                                                            objective ='binary:logistic',\n",
    "                                                                            max_depth = 4,\n",
    "                                                                             ))])\n",
    "param_roc_xgb = {'smote__k_neighbors': [1,2,3,4,5],\n",
    "                 'xgb__learning_rate' : [0.1,0.5]}\n",
    "\n",
    "ogrid_xgb= GridSearchCV(pipe_roc_xgb,param_roc_xgb, cv=5, n_jobs=2, scoring='roc_auc')\n",
    "ogrid_xgb.fit(X_train, y_train)\n",
    "\n",
    "print(\"Best parameters: {}\".format(ogrid_xgb.best_params_))\n",
    "print(\"Best Mean cross-validation score: {:.2f}\".format(ogrid_xgb.best_score_))\n"
   ]
  },
  {
   "cell_type": "markdown",
   "metadata": {},
   "source": [
    "## Summary"
   ]
  },
  {
   "cell_type": "markdown",
   "metadata": {},
   "source": [
    "### All classifiers"
   ]
  },
  {
   "cell_type": "code",
   "execution_count": 151,
   "metadata": {
    "ExecuteTime": {
     "end_time": "2020-05-04T00:57:50.275495Z",
     "start_time": "2020-05-04T00:57:50.268498Z"
    }
   },
   "outputs": [],
   "source": [
    "classifiers={\n",
    "    # simple models\n",
    "             'logreg':logreg_grid,\n",
    "             'rfc': rfc_grid,\n",
    "             'etc': etc_grid,\n",
    "             'adc_dtree':adc_dtree_grid,\n",
    "             'adc_rf':adc_rf_grid,\n",
    "             'gbc': gbc_grid,\n",
    "             'xgbc': xgbc_grid,\n",
    "    # cost sensitive models          \n",
    "            'c_logreg':grid_logreg,\n",
    "            'c_dtree':grid_dtree,\n",
    "            'c_svc':grid_svc,\n",
    "            'c_rfc':grid_rfc,\n",
    "            'c_xgb':grid_xgboost,\n",
    "            'c_etc':grid_etc,\n",
    "    # Data sampling models\n",
    "            'o_lg':ogrid_lg,\n",
    "            'o_dtree':ogrid_dtree,\n",
    "            'o_knn':ogrid_knn,\n",
    "#            'o_svm':ogrid_svm,\n",
    "            'o_rf':ogrid_rf,\n",
    "            'o_ee':ogrid_ee,\n",
    "            'o_xgb':ogrid_xgb,\n",
    "            }"
   ]
  },
  {
   "cell_type": "code",
   "execution_count": 152,
   "metadata": {
    "ExecuteTime": {
     "end_time": "2020-05-04T00:57:53.104712Z",
     "start_time": "2020-05-04T00:57:53.098717Z"
    }
   },
   "outputs": [],
   "source": [
    "results_mean_std = []\n",
    "for  key, value in classifiers.items():\n",
    "    mean = value.cv_results_['mean_test_score'][value.best_index_]\n",
    "    std=value.cv_results_['std_test_score'][value.best_index_]\n",
    "     \n",
    "    results_mean_std.append({\n",
    "        \"model\": key,\n",
    "        \"mean\": mean,\n",
    "        \"std\": std\n",
    "    })"
   ]
  },
  {
   "cell_type": "code",
   "execution_count": 153,
   "metadata": {
    "ExecuteTime": {
     "end_time": "2020-05-04T00:57:57.507734Z",
     "start_time": "2020-05-04T00:57:57.480751Z"
    }
   },
   "outputs": [
    {
     "data": {
      "text/html": [
       "<div>\n",
       "<style scoped>\n",
       "    .dataframe tbody tr th:only-of-type {\n",
       "        vertical-align: middle;\n",
       "    }\n",
       "\n",
       "    .dataframe tbody tr th {\n",
       "        vertical-align: top;\n",
       "    }\n",
       "\n",
       "    .dataframe thead th {\n",
       "        text-align: right;\n",
       "    }\n",
       "</style>\n",
       "<table border=\"1\" class=\"dataframe\">\n",
       "  <thead>\n",
       "    <tr style=\"text-align: right;\">\n",
       "      <th></th>\n",
       "      <th>model</th>\n",
       "      <th>mean</th>\n",
       "      <th>std</th>\n",
       "    </tr>\n",
       "  </thead>\n",
       "  <tbody>\n",
       "    <tr>\n",
       "      <th>6</th>\n",
       "      <td>xgbc</td>\n",
       "      <td>0.927361</td>\n",
       "      <td>0.005129</td>\n",
       "    </tr>\n",
       "    <tr>\n",
       "      <th>11</th>\n",
       "      <td>c_xgb</td>\n",
       "      <td>0.921890</td>\n",
       "      <td>0.004749</td>\n",
       "    </tr>\n",
       "    <tr>\n",
       "      <th>5</th>\n",
       "      <td>gbc</td>\n",
       "      <td>0.919113</td>\n",
       "      <td>0.005684</td>\n",
       "    </tr>\n",
       "    <tr>\n",
       "      <th>10</th>\n",
       "      <td>c_rfc</td>\n",
       "      <td>0.918203</td>\n",
       "      <td>0.004068</td>\n",
       "    </tr>\n",
       "    <tr>\n",
       "      <th>18</th>\n",
       "      <td>o_xgb</td>\n",
       "      <td>0.916923</td>\n",
       "      <td>0.005557</td>\n",
       "    </tr>\n",
       "    <tr>\n",
       "      <th>1</th>\n",
       "      <td>rfc</td>\n",
       "      <td>0.916248</td>\n",
       "      <td>0.006837</td>\n",
       "    </tr>\n",
       "    <tr>\n",
       "      <th>4</th>\n",
       "      <td>adc_rf</td>\n",
       "      <td>0.915559</td>\n",
       "      <td>0.004875</td>\n",
       "    </tr>\n",
       "    <tr>\n",
       "      <th>12</th>\n",
       "      <td>c_etc</td>\n",
       "      <td>0.915412</td>\n",
       "      <td>0.003643</td>\n",
       "    </tr>\n",
       "    <tr>\n",
       "      <th>3</th>\n",
       "      <td>adc_dtree</td>\n",
       "      <td>0.911522</td>\n",
       "      <td>0.003954</td>\n",
       "    </tr>\n",
       "    <tr>\n",
       "      <th>16</th>\n",
       "      <td>o_rf</td>\n",
       "      <td>0.909410</td>\n",
       "      <td>0.006706</td>\n",
       "    </tr>\n",
       "    <tr>\n",
       "      <th>2</th>\n",
       "      <td>etc</td>\n",
       "      <td>0.902079</td>\n",
       "      <td>0.005913</td>\n",
       "    </tr>\n",
       "    <tr>\n",
       "      <th>9</th>\n",
       "      <td>c_svc</td>\n",
       "      <td>0.894083</td>\n",
       "      <td>0.002595</td>\n",
       "    </tr>\n",
       "    <tr>\n",
       "      <th>17</th>\n",
       "      <td>o_ee</td>\n",
       "      <td>0.888735</td>\n",
       "      <td>0.005428</td>\n",
       "    </tr>\n",
       "    <tr>\n",
       "      <th>7</th>\n",
       "      <td>c_logreg</td>\n",
       "      <td>0.875230</td>\n",
       "      <td>0.005122</td>\n",
       "    </tr>\n",
       "    <tr>\n",
       "      <th>13</th>\n",
       "      <td>o_lg</td>\n",
       "      <td>0.874678</td>\n",
       "      <td>0.005041</td>\n",
       "    </tr>\n",
       "    <tr>\n",
       "      <th>0</th>\n",
       "      <td>logreg</td>\n",
       "      <td>0.874045</td>\n",
       "      <td>0.004953</td>\n",
       "    </tr>\n",
       "    <tr>\n",
       "      <th>14</th>\n",
       "      <td>o_dtree</td>\n",
       "      <td>0.872413</td>\n",
       "      <td>0.007639</td>\n",
       "    </tr>\n",
       "    <tr>\n",
       "      <th>15</th>\n",
       "      <td>o_knn</td>\n",
       "      <td>0.829887</td>\n",
       "      <td>0.003809</td>\n",
       "    </tr>\n",
       "    <tr>\n",
       "      <th>8</th>\n",
       "      <td>c_dtree</td>\n",
       "      <td>0.708884</td>\n",
       "      <td>0.004632</td>\n",
       "    </tr>\n",
       "  </tbody>\n",
       "</table>\n",
       "</div>"
      ],
      "text/plain": [
       "        model      mean       std\n",
       "6        xgbc  0.927361  0.005129\n",
       "11      c_xgb  0.921890  0.004749\n",
       "5         gbc  0.919113  0.005684\n",
       "10      c_rfc  0.918203  0.004068\n",
       "18      o_xgb  0.916923  0.005557\n",
       "1         rfc  0.916248  0.006837\n",
       "4      adc_rf  0.915559  0.004875\n",
       "12      c_etc  0.915412  0.003643\n",
       "3   adc_dtree  0.911522  0.003954\n",
       "16       o_rf  0.909410  0.006706\n",
       "2         etc  0.902079  0.005913\n",
       "9       c_svc  0.894083  0.002595\n",
       "17       o_ee  0.888735  0.005428\n",
       "7    c_logreg  0.875230  0.005122\n",
       "13       o_lg  0.874678  0.005041\n",
       "0      logreg  0.874045  0.004953\n",
       "14    o_dtree  0.872413  0.007639\n",
       "15      o_knn  0.829887  0.003809\n",
       "8     c_dtree  0.708884  0.004632"
      ]
     },
     "execution_count": 153,
     "metadata": {},
     "output_type": "execute_result"
    }
   ],
   "source": [
    "# Create a Pandas DataFrame with the mean+std results\n",
    "accuracy_df = pd.DataFrame(results_mean_std, columns=['model', 'mean', 'std'])\n",
    "\n",
    "# Show the accuracy dataframe\n",
    "\n",
    "accuracy_df.sort_values(by=['mean'], inplace=True,ascending=False)\n",
    "accuracy_df"
   ]
  },
  {
   "cell_type": "code",
   "execution_count": null,
   "metadata": {
    "ExecuteTime": {
     "end_time": "2020-05-02T21:18:37.923752Z",
     "start_time": "2020-05-02T21:18:37.887774Z"
    }
   },
   "outputs": [],
   "source": []
  },
  {
   "cell_type": "markdown",
   "metadata": {},
   "source": [
    "### Correlation"
   ]
  },
  {
   "cell_type": "code",
   "execution_count": 154,
   "metadata": {
    "ExecuteTime": {
     "end_time": "2020-05-04T00:59:11.039019Z",
     "start_time": "2020-05-04T00:58:16.230327Z"
    }
   },
   "outputs": [],
   "source": [
    "# Create a prediction of all models on the test set\n",
    "predictions_all = {}\n",
    "for  key, value in classifiers.items():\n",
    "    # Get best estimator\n",
    "    best_model = value.best_estimator_\n",
    "    \n",
    "    # Predict test labels\n",
    "    predictions = best_model.predict(X_val)\n",
    "    \n",
    "    # Save predictions to a list\n",
    "    predictions_all[key] = predictions"
   ]
  },
  {
   "cell_type": "code",
   "execution_count": 155,
   "metadata": {
    "ExecuteTime": {
     "end_time": "2020-05-04T00:59:24.296940Z",
     "start_time": "2020-05-04T00:59:24.288948Z"
    }
   },
   "outputs": [],
   "source": [
    "# Creat a DataFrame for the predictions\n",
    "pred = pd.DataFrame(predictions_all)"
   ]
  },
  {
   "cell_type": "code",
   "execution_count": 156,
   "metadata": {
    "ExecuteTime": {
     "end_time": "2020-05-04T00:59:29.018892Z",
     "start_time": "2020-05-04T00:59:27.331768Z"
    }
   },
   "outputs": [
    {
     "data": {
      "text/plain": [
       "Text(0.5, 1, 'Correlation of the test set label prediction between models')"
      ]
     },
     "execution_count": 156,
     "metadata": {},
     "output_type": "execute_result"
    },
    {
     "data": {
      "image/png": "[encoded data removed]",
      "text/plain": [
       "<Figure size 864x576 with 2 Axes>"
      ]
     },
     "metadata": {
      "needs_background": "light"
     },
     "output_type": "display_data"
    }
   ],
   "source": [
    "# Plot a heatmap of all correlations for easier visualization\n",
    "fig, ax = plt.subplots(nrows=1, ncols=1, figsize=(12,8))\n",
    "g = sns.heatmap(pred.corr(), annot=True, cmap='coolwarm', ax=ax)\n",
    "g.set_title('Correlation of the test set label prediction between models')"
   ]
  },
  {
   "cell_type": "code",
   "execution_count": 157,
   "metadata": {
    "ExecuteTime": {
     "end_time": "2020-05-04T00:59:37.039543Z",
     "start_time": "2020-05-04T00:59:37.028550Z"
    }
   },
   "outputs": [],
   "source": [
    "def get_redundant_pairs(df):\n",
    "    '''Get diagonal and lower triangular pairs of correlation matrix'''\n",
    "    pairs_to_drop = set()\n",
    "    cols = df.columns\n",
    "    for i in range(0, df.shape[1]):\n",
    "        for j in range(0, i+1):\n",
    "            pairs_to_drop.add((cols[i], cols[j]))\n",
    "    return pairs_to_drop\n",
    "\n",
    "def get_top_abs_correlations(df, n=5):\n",
    "    au_corr = df.corr().abs().unstack()\n",
    "    labels_to_drop = get_redundant_pairs(df)\n",
    "    au_corr = au_corr.drop(labels=labels_to_drop).sort_values(ascending=True)\n",
    "    return au_corr[0:n]\n",
    "\n"
   ]
  },
  {
   "cell_type": "code",
   "execution_count": 158,
   "metadata": {
    "ExecuteTime": {
     "end_time": "2020-05-04T00:59:41.951019Z",
     "start_time": "2020-05-04T00:59:41.914040Z"
    }
   },
   "outputs": [
    {
     "name": "stdout",
     "output_type": "stream",
     "text": [
      "Top Absolute Correlations\n",
      "etc  c_logreg    0.116003\n",
      "     c_svc       0.124236\n",
      "     o_dtree     0.128172\n",
      "     o_lg        0.129963\n",
      "     o_knn       0.147944\n",
      "dtype: float64\n"
     ]
    }
   ],
   "source": [
    "print(\"Top Absolute Correlations\")\n",
    "print(get_top_abs_correlations(pred))"
   ]
  },
  {
   "cell_type": "code",
   "execution_count": null,
   "metadata": {
    "ExecuteTime": {
     "end_time": "2020-05-03T00:11:07.428496Z",
     "start_time": "2020-05-03T00:11:07.422500Z"
    }
   },
   "outputs": [],
   "source": []
  },
  {
   "cell_type": "markdown",
   "metadata": {},
   "source": [
    "## Stacking Classifiers"
   ]
  },
  {
   "cell_type": "code",
   "execution_count": 159,
   "metadata": {
    "ExecuteTime": {
     "end_time": "2020-05-04T01:08:21.237616Z",
     "start_time": "2020-05-04T01:08:21.232616Z"
    }
   },
   "outputs": [],
   "source": [
    "#top 3 estimators\n",
    "estimators2_ = [('etc',etc_grid.best_estimator_),\n",
    "               ('rfc',rfc_grid.best_estimator_),\n",
    "               ('o_xgb',ogrid_xgb.best_estimator_)]"
   ]
  },
  {
   "cell_type": "code",
   "execution_count": 160,
   "metadata": {
    "ExecuteTime": {
     "end_time": "2020-05-04T01:27:58.607986Z",
     "start_time": "2020-05-04T01:08:27.197399Z"
    }
   },
   "outputs": [
    {
     "name": "stdout",
     "output_type": "stream",
     "text": [
      "Best Mean Cross Validation Score is 0.9214481492545261\n",
      "Best Mean Cross Validation params is {'final_estimator__learning_rate': 0.1, 'final_estimator__max_depth': 6, 'final_estimator__min_child_weight': 7, 'final_estimator__n_estimators': 150, 'final_estimator__subsample': 0.9, 'stack_method': 'auto'}\n",
      "Train score is 0.9491159562273406\n",
      "Test score is 0.9198141756083531\n"
     ]
    }
   ],
   "source": [
    "from sklearn.ensemble import StackingClassifier\n",
    "sclf2 = StackingClassifier(estimators= estimators2_\n",
    "                            , final_estimator=XGBClassifier())\n",
    "sclf2_param = {\n",
    "              'final_estimator__max_depth' : [6],\n",
    "              'final_estimator__n_estimators' : [150],\n",
    "              'final_estimator__learning_rate' : [0.1],\n",
    "              'final_estimator__min_child_weight' : [7],\n",
    "              'final_estimator__subsample':[0.9],\n",
    "              'stack_method':['auto', 'predict_proba']\n",
    "             }\n",
    "sclf2_grid = GridSearchCV(sclf2, sclf2_param,cv=5, return_train_score=True,scoring='roc_auc' )\n",
    "sclf2_grid.fit(X_train,y_train)\n",
    "\n",
    "print(f'Best Mean Cross Validation Score is {sclf2_grid.best_score_}')\n",
    "print(f'Best Mean Cross Validation params is {sclf2_grid.best_params_}')\n",
    "print(f'Train score is {sclf2_grid.score(X_train,y_train)}')\n",
    "print(f'Test score is {sclf2_grid.score(X_test,y_test)}')\n",
    "\n",
    "#Best parameters {'learning_rate': 0.1, 'max_depth': 6, 'min_child_weight': 7, 'n_estimators': 150, 'subsample': 0.9}\n"
   ]
  },
  {
   "cell_type": "markdown",
   "metadata": {},
   "source": [
    "# Final model"
   ]
  },
  {
   "cell_type": "code",
   "execution_count": 161,
   "metadata": {
    "ExecuteTime": {
     "end_time": "2020-05-04T01:30:07.744834Z",
     "start_time": "2020-05-04T01:30:07.739837Z"
    }
   },
   "outputs": [],
   "source": [
    "# Best model: XG boost"
   ]
  },
  {
   "cell_type": "code",
   "execution_count": 162,
   "metadata": {
    "ExecuteTime": {
     "end_time": "2020-05-04T01:30:13.421038Z",
     "start_time": "2020-05-04T01:30:13.142199Z"
    }
   },
   "outputs": [
    {
     "name": "stdout",
     "output_type": "stream",
     "text": [
      "train roc_auc_score: 0.785\n",
      "val roc_auc_score: 0.708\n",
      "test roc_auc_score: 0.710\n"
     ]
    }
   ],
   "source": [
    "from math import sqrt\n",
    "from sklearn.metrics import roc_auc_score\n",
    "\n",
    "\n",
    "#Best model: XG boost\n",
    "\n",
    "# let's get the predictions\n",
    "X_train_preds = xgbc_grid.predict(X_train)\n",
    "X_val_preds = xgbc_grid.predict(X_val)\n",
    "X_test_preds = xgbc_grid.predict(X_test)\n",
    "\n",
    "print('train roc_auc_score: {:.3f}'.format(roc_auc_score(y_train, X_train_preds)))\n",
    "print('val roc_auc_score: {:.3f}'.format(roc_auc_score(y_val, X_val_preds)))\n",
    "print('test roc_auc_score: {:.3f}'.format(roc_auc_score(y_test, X_test_preds)))"
   ]
  }
 ],
 "metadata": {
  "kernelspec": {
   "display_name": "buan6341_2020",
   "language": "python",
   "name": "buan6341_2020"
  },
  "language_info": {
   "codemirror_mode": {
    "name": "ipython",
    "version": 3
   },
   "file_extension": ".py",
   "mimetype": "text/x-python",
   "name": "python",
   "nbconvert_exporter": "python",
   "pygments_lexer": "ipython3",
   "version": "3.7.6"
  },
  "toc": {
   "base_numbering": 1,
   "nav_menu": {},
   "number_sections": true,
   "sideBar": true,
   "skip_h1_title": false,
   "title_cell": "Table of Contents",
   "title_sidebar": "Contents",
   "toc_cell": false,
   "toc_position": {
    "height": "calc(100% - 180px)",
    "left": "10px",
    "top": "150px",
    "width": "247.323px"
   },
   "toc_section_display": true,
   "toc_window_display": true
  }
 },
 "nbformat": 4,
 "nbformat_minor": 2
}
